{
 "cells": [
  {
   "cell_type": "code",
   "execution_count": 1,
   "metadata": {
    "ExecuteTime": {
     "end_time": "2022-10-06T14:45:19.977632Z",
     "start_time": "2022-10-06T14:45:19.567340Z"
    }
   },
   "outputs": [],
   "source": [
    "from time import sleep\n",
    "\n",
    "import requests\n",
    "from bs4 import BeautifulSoup\n",
    "\n",
    "from network_config import MANE_PAGE_YFA, WEB_HEADERS\n",
    "\n",
    "\n",
    "def html_response(url, headers):\n",
    "    for _ in range(3):\n",
    "        try:\n",
    "            response = requests.get(url, headers=headers)\n",
    "            return response.text\n",
    "        except ConnectionError or TimeoutError or ConnectionResetError:\n",
    "            print(\"\\n*****ConnectionError, TimeoutError or ConnectionResetError*\"\n",
    "                  \"****\\n\\nI will retry again after 7 seconds...\")\n",
    "            sleep(7)\n",
    "            print('Making another request...')"
   ]
  },
  {
   "cell_type": "code",
   "execution_count": 4,
   "metadata": {
    "ExecuteTime": {
     "end_time": "2022-10-06T14:45:21.384326Z",
     "start_time": "2022-10-06T14:45:19.983633Z"
    }
   },
   "outputs": [],
   "source": [
    "import datetime\n",
    "import pandas as pd\n",
    "from tqdm.notebook import tqdm\n",
    "\n",
    "months_dict = {\n",
    "    'января': 'Jan',\n",
    "    'февраля': 'Feb',\n",
    "    'марта': 'Mar',\n",
    "    'апреля': 'Apr',\n",
    "    'мая': 'May',\n",
    "    'июня': 'June',\n",
    "    'июля': 'Jul',\n",
    "    'августа': 'Aug',\n",
    "    'сентября': 'Sep',\n",
    "    'октября': 'Oct',\n",
    "    'ноября': 'Nov',\n",
    "    'декабря': 'Dec'\n",
    "}\n",
    "\n",
    "wd_list = ['4WD', 'передний', 'задний']\n",
    "transmission_list = ['механика', 'АКПП', 'вариатор', 'робот']\n",
    "fuel_list = ['бензин', 'дизель', 'гибрид', 'электро']"
   ]
  },
  {
   "cell_type": "code",
   "execution_count": 5,
   "metadata": {
    "ExecuteTime": {
     "end_time": "2022-10-06T14:45:21.400312Z",
     "start_time": "2022-10-06T14:45:21.387311Z"
    }
   },
   "outputs": [],
   "source": [
    "def get_from_list(split_header_item, list_):\n",
    "\n",
    "    for item in list_:\n",
    "        if item in split_header_item:\n",
    "            return item\n",
    "\n",
    "\n",
    "def get_date(date, today):\n",
    "\n",
    "    if 'сегод' in date:\n",
    "        date = today.date()\n",
    "\n",
    "    elif 'минут' in date:\n",
    "        try:\n",
    "            delta_minutes = int(date.split(' ')[0])\n",
    "        except:\n",
    "            delta_minutes = 1\n",
    "        date = (today - datetime.timedelta(minutes=delta_minutes)).date()\n",
    "\n",
    "    elif 'час' in date:\n",
    "        delta_hours = int(date.split(' ')[0])\n",
    "        date = (today - datetime.timedelta(hours=delta_hours)).date()\n",
    "\n",
    "    else:\n",
    "        day, month = date.split(' ')\n",
    "        month = months_dict.get(month)\n",
    "\n",
    "        if today.month == 1 and month == 'Dec':\n",
    "            year = today.year - 1\n",
    "        else:\n",
    "            year = today.year\n",
    "\n",
    "        date = datetime.datetime.strptime(\n",
    "            f'{day} {month} {year}', '%d %b %Y').date()\n",
    "\n",
    "    return date"
   ]
  },
  {
   "cell_type": "code",
   "execution_count": 12,
   "metadata": {
    "ExecuteTime": {
     "end_time": "2022-10-06T14:45:21.432313Z",
     "start_time": "2022-10-06T14:45:21.403312Z"
    }
   },
   "outputs": [],
   "source": [
    "d_class = 'css-ck6dgx ewrty961'\n",
    "\n",
    "\n",
    "def get_car_info(about):\n",
    "    description = about.get('description')\n",
    "    if description:\n",
    "        description = description.replace(\n",
    "            '\\n', ' ').replace('\\r', '').replace('  ', ' ')\n",
    "\n",
    "    brand_len = len(about.get('brand'))\n",
    "    name = about.get('name').split(', ')[0][brand_len + 1:]\n",
    "\n",
    "    new = {\n",
    "        'brand': about.get('brand'),\n",
    "        'name': name,\n",
    "        'bodyType': about.get('bodyType'),\n",
    "        'color': about.get('color'),\n",
    "        'fuelType': about.get('fuelType'),\n",
    "        'year': about.get('modelDate'),\n",
    "        'mileage': None,\n",
    "        'transmission': about.get('vehicleTransmission'),\n",
    "        'power': None,\n",
    "        'price': None,\n",
    "        'vehicleConfiguration': about.get('vehicleConfiguration'),\n",
    "        'engineName': None,\n",
    "        'engineDisplacement': None,\n",
    "        'date': None,\n",
    "        'location': None,\n",
    "        'link': None,\n",
    "        'description': description,\n",
    "    }\n",
    "\n",
    "    vehicle = about.get('vehicleEngine')\n",
    "    if vehicle:\n",
    "        new.update({\n",
    "            'engineName': vehicle.get('name'),\n",
    "            'engineDisplacement': vehicle.get('engineDisplacement')\n",
    "        })\n",
    "    return new\n",
    "\n",
    "\n",
    "def parse_page_response(response):\n",
    "    today = datetime.datetime.today()\n",
    "    soup = BeautifulSoup(response, 'html.parser')\n",
    "    js_data = soup.find_all('script', type='application/ld+json')[1:21]\n",
    "    #         for idx in range(1, 21):\n",
    "    #             about =json.loads(data[idx].contents[0])\n",
    "    print(js_data[0])\n",
    "    # return\n",
    "\n",
    "    # links = soup.find('div', class_='css-1nvf6xk eaczv700')\n",
    "    links = soup.find('div', class_='css-1nvf6xk eaczv700')\n",
    "    # links = soup.find('div', class_='css-1f36sr9 e1m0rp604')\n",
    "    main_page_data = []\n",
    "\n",
    "    for js_item, full_header, price, date_loc, link, mileage in zip(\n",
    "            js_data,\n",
    "            soup.find_all('a', attrs={\"data-ftid\": \"bulls-list_bull\"}),\n",
    "            soup.find_all('span', class_=\"css-46itwz e162wx9x0\"),\n",
    "            soup.find_all('div', class_=\"css-1x4jcds eotelyr0\"),\n",
    "            links.find_all('a', attrs={\"data-ftid\": \"bulls-list_bull\"}),\n",
    "            soup.find_all('span', class_='css-1l9tp44 e162wx9x0')\n",
    "    ):\n",
    "        js_info = json.loads(js_item.contents[0])\n",
    "        js_info = get_car_info(js_info)\n",
    "\n",
    "        mileage = None\n",
    "        power = None\n",
    "\n",
    "        buf = full_header.find_all('span', class_='css-1l9tp44 e162wx9x0')\n",
    "        for item in buf:\n",
    "            if 'тыс' in item.text:\n",
    "                mileage = int(item.text.replace(' ', '').replace(\n",
    "                    'тыс.км', '000').replace(',', '').replace('<', ''))\n",
    "                break\n",
    "\n",
    "        split_header = full_header.text.split(', ')\n",
    "        for item in split_header:\n",
    "            if 'л.с.' in item:\n",
    "                power = item.rsplit('(')[-1][:-6]\n",
    "                try:\n",
    "                    power = int(power)\n",
    "                    if power > 2000:\n",
    "                        power = None\n",
    "                except:\n",
    "                    power = None\n",
    "                break\n",
    "\n",
    "        price = price.text[:-2].replace(u'\\xa0', u'')\n",
    "        date = get_date(date_loc.div.text, today)\n",
    "        location = date_loc.span.text\n",
    "        link = link.get('href')\n",
    "\n",
    "        js_info.update({\n",
    "            'mileage': mileage,\n",
    "            'power': power,\n",
    "            'price': price,\n",
    "            'date': date,\n",
    "            'location': location,\n",
    "            'link': link,\n",
    "        })\n",
    "        main_page_data.append(js_info)\n",
    "\n",
    "    return main_page_data"
   ]
  },
  {
   "cell_type": "code",
   "execution_count": 13,
   "metadata": {
    "ExecuteTime": {
     "end_time": "2022-10-06T14:45:21.447313Z",
     "start_time": "2022-10-06T14:45:21.435315Z"
    }
   },
   "outputs": [],
   "source": [
    "a = html_response(MANE_PAGE_YFA + 'page', WEB_HEADERS)\n",
    "# parse_page_response(a)"
   ]
  },
  {
   "cell_type": "code",
   "execution_count": 14,
   "metadata": {
    "ExecuteTime": {
     "end_time": "2022-10-06T14:45:21.463319Z",
     "start_time": "2022-10-06T14:45:21.451316Z"
    }
   },
   "outputs": [],
   "source": [
    "def start(region, pages_count):\n",
    "    print(f'Start {region} region!')\n",
    "\n",
    "    region = f'region{region}'\n",
    "    folder = f'drom/{region}/'\n",
    "    MANE_PAGE_YFA = f'https://auto.drom.ru/{region}/all/page'\n",
    "\n",
    "    today_date = datetime.datetime.now().date()\n",
    "    today_hour = datetime.datetime.now().hour\n",
    "\n",
    "    responses = []\n",
    "    result = []\n",
    "    errors = []\n",
    "    #     print(MANE_PAGE_YFA)\n",
    "\n",
    "    for page in tqdm(range(pages_count), desc='Collect Pages'):\n",
    "        page_response = html_response(MANE_PAGE_YFA + str(page + 1), WEB_HEADERS)\n",
    "        responses.append(page_response)\n",
    "\n",
    "    for idx in tqdm(range(pages_count), desc='Parsing Pages'):\n",
    "        try:\n",
    "            page_records = parse_page_response(responses[idx])\n",
    "\n",
    "            for i in page_records:\n",
    "                result.append(i)\n",
    "        except:\n",
    "            errors.append(responses[idx])\n",
    "\n",
    "    print(f'Errors: {len(errors)}')\n",
    "    if len(result) == 0:\n",
    "        print('PARSING ERROR: EMPTY CSV FILE!')\n",
    "        print('PARSING ERROR: EMPTY CSV FILE!')\n",
    "        print('PARSING ERROR: EMPTY CSV FILE!')\n",
    "\n",
    "        return\n",
    "\n",
    "    result_ = pd.DataFrame(result)\n",
    "\n",
    "    if len(errors) > 0:\n",
    "        csv_name = f'{folder}drom_{region}_{today_date}_{today_hour:02d}_{len(errors):02d}errors.csv'\n",
    "    else:\n",
    "        csv_name = f'{folder}drom_{region}_{today_date}_{today_hour:02d}.csv'\n",
    "\n",
    "    result_.to_csv(csv_name)\n",
    "    print(f'Saved to {csv_name}')\n",
    "\n",
    "    return errors"
   ]
  },
  {
   "cell_type": "code",
   "execution_count": 16,
   "metadata": {
    "ExecuteTime": {
     "end_time": "2022-10-06T14:45:21.495317Z",
     "start_time": "2022-10-06T14:45:21.481321Z"
    }
   },
   "outputs": [],
   "source": [
    "def main():\n",
    "    pages_count = 1\n",
    "    regions = [25]\n",
    "    for region in regions:\n",
    "        start(region, pages_count)"
   ]
  },
  {
   "cell_type": "code",
   "execution_count": 11,
   "metadata": {
    "ExecuteTime": {
     "end_time": "2022-10-06T14:49:17.889132Z",
     "start_time": "2022-10-06T14:45:21.497323Z"
    }
   },
   "outputs": [
    {
     "name": "stdout",
     "output_type": "stream",
     "text": [
      "Start 25 region!\n"
     ]
    },
    {
     "data": {
      "text/plain": "Collect Pages:   0%|          | 0/1 [00:00<?, ?it/s]",
      "application/vnd.jupyter.widget-view+json": {
       "version_major": 2,
       "version_minor": 0,
       "model_id": "5306bb2892b4460dafe9c6d7ece0685c"
      }
     },
     "metadata": {},
     "output_type": "display_data"
    },
    {
     "data": {
      "text/plain": "Parsing Pages:   0%|          | 0/1 [00:00<?, ?it/s]",
      "application/vnd.jupyter.widget-view+json": {
       "version_major": 2,
       "version_minor": 0,
       "model_id": "41a8edbc888a434486bfc5dc93c41fb1"
      }
     },
     "metadata": {},
     "output_type": "display_data"
    },
    {
     "name": "stdout",
     "output_type": "stream",
     "text": [
      "Errors: 1\n",
      "PARSING ERROR: EMPTY CSV FILE!\n",
      "PARSING ERROR: EMPTY CSV FILE!\n",
      "PARSING ERROR: EMPTY CSV FILE!\n",
      "Start 41 region!\n"
     ]
    },
    {
     "data": {
      "text/plain": "Collect Pages:   0%|          | 0/1 [00:00<?, ?it/s]",
      "application/vnd.jupyter.widget-view+json": {
       "version_major": 2,
       "version_minor": 0,
       "model_id": "daef637bf9264437a03981c85e500742"
      }
     },
     "metadata": {},
     "output_type": "display_data"
    },
    {
     "data": {
      "text/plain": "Parsing Pages:   0%|          | 0/1 [00:00<?, ?it/s]",
      "application/vnd.jupyter.widget-view+json": {
       "version_major": 2,
       "version_minor": 0,
       "model_id": "9a47cf8cba354275a42bf1d5ab6c9a64"
      }
     },
     "metadata": {},
     "output_type": "display_data"
    },
    {
     "name": "stdout",
     "output_type": "stream",
     "text": [
      "Errors: 1\n",
      "PARSING ERROR: EMPTY CSV FILE!\n",
      "PARSING ERROR: EMPTY CSV FILE!\n",
      "PARSING ERROR: EMPTY CSV FILE!\n"
     ]
    }
   ],
   "source": [
    "main()"
   ]
  },
  {
   "cell_type": "code",
   "execution_count": 10,
   "metadata": {
    "ExecuteTime": {
     "end_time": "2022-10-07T17:31:12.622467Z",
     "start_time": "2022-10-06T14:49:17.892134Z"
    },
    "scrolled": true
   },
   "outputs": [
    {
     "name": "stdout",
     "output_type": "stream",
     "text": [
      "Start 25 region!\n"
     ]
    },
    {
     "data": {
      "application/vnd.jupyter.widget-view+json": {
       "model_id": "cdfe0292d049487d94b8a3adec4c9569",
       "version_major": 2,
       "version_minor": 0
      },
      "text/plain": [
       "Collect Pages:   0%|          | 0/80 [00:00<?, ?it/s]"
      ]
     },
     "metadata": {},
     "output_type": "display_data"
    },
    {
     "data": {
      "application/vnd.jupyter.widget-view+json": {
       "model_id": "58287c497ad24e599ca6259dc2fc0799",
       "version_major": 2,
       "version_minor": 0
      },
      "text/plain": [
       "Parsing Pages:   0%|          | 0/80 [00:00<?, ?it/s]"
      ]
     },
     "metadata": {},
     "output_type": "display_data"
    },
    {
     "name": "stdout",
     "output_type": "stream",
     "text": [
      "Errors: 0\n",
      "Saved to drom/region25/drom_region25_2022-10-07_03.csv\n",
      "Start 41 region!\n"
     ]
    },
    {
     "data": {
      "application/vnd.jupyter.widget-view+json": {
       "model_id": "22cb4af45aeb401c9f7f1f52d14dd768",
       "version_major": 2,
       "version_minor": 0
      },
      "text/plain": [
       "Collect Pages:   0%|          | 0/80 [00:00<?, ?it/s]"
      ]
     },
     "metadata": {},
     "output_type": "display_data"
    },
    {
     "data": {
      "application/vnd.jupyter.widget-view+json": {
       "model_id": "c05c909cc5db4b368e6fa73e5bed8f66",
       "version_major": 2,
       "version_minor": 0
      },
      "text/plain": [
       "Parsing Pages:   0%|          | 0/80 [00:00<?, ?it/s]"
      ]
     },
     "metadata": {},
     "output_type": "display_data"
    },
    {
     "name": "stdout",
     "output_type": "stream",
     "text": [
      "Errors: 0\n",
      "Saved to drom/region41/drom_region41_2022-10-07_03.csv\n",
      "Start 25 region!\n"
     ]
    },
    {
     "data": {
      "application/vnd.jupyter.widget-view+json": {
       "model_id": "165b1876012243fabdc20a90cd4494ac",
       "version_major": 2,
       "version_minor": 0
      },
      "text/plain": [
       "Collect Pages:   0%|          | 0/80 [00:00<?, ?it/s]"
      ]
     },
     "metadata": {},
     "output_type": "display_data"
    },
    {
     "data": {
      "application/vnd.jupyter.widget-view+json": {
       "model_id": "bcbeb78535464df7b0c46cfa5b008c52",
       "version_major": 2,
       "version_minor": 0
      },
      "text/plain": [
       "Parsing Pages:   0%|          | 0/80 [00:00<?, ?it/s]"
      ]
     },
     "metadata": {},
     "output_type": "display_data"
    },
    {
     "name": "stdout",
     "output_type": "stream",
     "text": [
      "Errors: 0\n",
      "Saved to drom/region25/drom_region25_2022-10-07_04.csv\n",
      "Start 41 region!\n"
     ]
    },
    {
     "data": {
      "application/vnd.jupyter.widget-view+json": {
       "model_id": "79b44af1f9734c478056e5f2264b4897",
       "version_major": 2,
       "version_minor": 0
      },
      "text/plain": [
       "Collect Pages:   0%|          | 0/80 [00:00<?, ?it/s]"
      ]
     },
     "metadata": {},
     "output_type": "display_data"
    },
    {
     "data": {
      "application/vnd.jupyter.widget-view+json": {
       "model_id": "47727e15680147a6aa1a703b9822f171",
       "version_major": 2,
       "version_minor": 0
      },
      "text/plain": [
       "Parsing Pages:   0%|          | 0/80 [00:00<?, ?it/s]"
      ]
     },
     "metadata": {},
     "output_type": "display_data"
    },
    {
     "name": "stdout",
     "output_type": "stream",
     "text": [
      "Errors: 0\n",
      "Saved to drom/region41/drom_region41_2022-10-07_04.csv\n",
      "Start 25 region!\n"
     ]
    },
    {
     "data": {
      "application/vnd.jupyter.widget-view+json": {
       "model_id": "d1befad1b3cb4a69b1c1a4ecf5a57921",
       "version_major": 2,
       "version_minor": 0
      },
      "text/plain": [
       "Collect Pages:   0%|          | 0/80 [00:00<?, ?it/s]"
      ]
     },
     "metadata": {},
     "output_type": "display_data"
    },
    {
     "data": {
      "application/vnd.jupyter.widget-view+json": {
       "model_id": "863734184c0d4f889911bcb2fd22b55f",
       "version_major": 2,
       "version_minor": 0
      },
      "text/plain": [
       "Parsing Pages:   0%|          | 0/80 [00:00<?, ?it/s]"
      ]
     },
     "metadata": {},
     "output_type": "display_data"
    },
    {
     "name": "stdout",
     "output_type": "stream",
     "text": [
      "Errors: 0\n",
      "Saved to drom/region25/drom_region25_2022-10-07_05.csv\n",
      "Start 41 region!\n"
     ]
    },
    {
     "data": {
      "application/vnd.jupyter.widget-view+json": {
       "model_id": "eb15f284ef2b47daac6a67793f61de89",
       "version_major": 2,
       "version_minor": 0
      },
      "text/plain": [
       "Collect Pages:   0%|          | 0/80 [00:00<?, ?it/s]"
      ]
     },
     "metadata": {},
     "output_type": "display_data"
    },
    {
     "data": {
      "application/vnd.jupyter.widget-view+json": {
       "model_id": "0f4f277c069443d1966f755c8e83fa96",
       "version_major": 2,
       "version_minor": 0
      },
      "text/plain": [
       "Parsing Pages:   0%|          | 0/80 [00:00<?, ?it/s]"
      ]
     },
     "metadata": {},
     "output_type": "display_data"
    },
    {
     "name": "stdout",
     "output_type": "stream",
     "text": [
      "Errors: 0\n",
      "Saved to drom/region41/drom_region41_2022-10-07_05.csv\n",
      "Start 25 region!\n"
     ]
    },
    {
     "data": {
      "application/vnd.jupyter.widget-view+json": {
       "model_id": "ac2414da275f4f75b087c86440837be5",
       "version_major": 2,
       "version_minor": 0
      },
      "text/plain": [
       "Collect Pages:   0%|          | 0/80 [00:00<?, ?it/s]"
      ]
     },
     "metadata": {},
     "output_type": "display_data"
    },
    {
     "data": {
      "application/vnd.jupyter.widget-view+json": {
       "model_id": "a97ce6888e77456c84bb42911525f023",
       "version_major": 2,
       "version_minor": 0
      },
      "text/plain": [
       "Parsing Pages:   0%|          | 0/80 [00:00<?, ?it/s]"
      ]
     },
     "metadata": {},
     "output_type": "display_data"
    },
    {
     "name": "stdout",
     "output_type": "stream",
     "text": [
      "Errors: 0\n",
      "Saved to drom/region25/drom_region25_2022-10-07_06.csv\n",
      "Start 41 region!\n"
     ]
    },
    {
     "data": {
      "application/vnd.jupyter.widget-view+json": {
       "model_id": "2800125bfc5642248ed9b0da5bb05be6",
       "version_major": 2,
       "version_minor": 0
      },
      "text/plain": [
       "Collect Pages:   0%|          | 0/80 [00:00<?, ?it/s]"
      ]
     },
     "metadata": {},
     "output_type": "display_data"
    },
    {
     "data": {
      "application/vnd.jupyter.widget-view+json": {
       "model_id": "2e4900148e4741e3a4492f2585f998dc",
       "version_major": 2,
       "version_minor": 0
      },
      "text/plain": [
       "Parsing Pages:   0%|          | 0/80 [00:00<?, ?it/s]"
      ]
     },
     "metadata": {},
     "output_type": "display_data"
    },
    {
     "name": "stdout",
     "output_type": "stream",
     "text": [
      "Errors: 0\n",
      "Saved to drom/region41/drom_region41_2022-10-07_06.csv\n",
      "Start 25 region!\n"
     ]
    },
    {
     "data": {
      "application/vnd.jupyter.widget-view+json": {
       "model_id": "ae3409e03266499a85a6a7f2a5b6d65f",
       "version_major": 2,
       "version_minor": 0
      },
      "text/plain": [
       "Collect Pages:   0%|          | 0/80 [00:00<?, ?it/s]"
      ]
     },
     "metadata": {},
     "output_type": "display_data"
    },
    {
     "data": {
      "application/vnd.jupyter.widget-view+json": {
       "model_id": "6b5c0fa085a04a508471cb6497532d4d",
       "version_major": 2,
       "version_minor": 0
      },
      "text/plain": [
       "Parsing Pages:   0%|          | 0/80 [00:00<?, ?it/s]"
      ]
     },
     "metadata": {},
     "output_type": "display_data"
    },
    {
     "name": "stdout",
     "output_type": "stream",
     "text": [
      "Errors: 0\n",
      "Saved to drom/region25/drom_region25_2022-10-07_07.csv\n",
      "Start 41 region!\n"
     ]
    },
    {
     "data": {
      "application/vnd.jupyter.widget-view+json": {
       "model_id": "7872420938f749718a683ffca6a9c384",
       "version_major": 2,
       "version_minor": 0
      },
      "text/plain": [
       "Collect Pages:   0%|          | 0/80 [00:00<?, ?it/s]"
      ]
     },
     "metadata": {},
     "output_type": "display_data"
    },
    {
     "data": {
      "application/vnd.jupyter.widget-view+json": {
       "model_id": "373dbf12b3e345d1a66bb70b41225a4c",
       "version_major": 2,
       "version_minor": 0
      },
      "text/plain": [
       "Parsing Pages:   0%|          | 0/80 [00:00<?, ?it/s]"
      ]
     },
     "metadata": {},
     "output_type": "display_data"
    },
    {
     "name": "stdout",
     "output_type": "stream",
     "text": [
      "Errors: 0\n",
      "Saved to drom/region41/drom_region41_2022-10-07_07.csv\n",
      "Start 25 region!\n"
     ]
    },
    {
     "data": {
      "application/vnd.jupyter.widget-view+json": {
       "model_id": "082193f05f5842c6b7597f074157040d",
       "version_major": 2,
       "version_minor": 0
      },
      "text/plain": [
       "Collect Pages:   0%|          | 0/80 [00:00<?, ?it/s]"
      ]
     },
     "metadata": {},
     "output_type": "display_data"
    },
    {
     "data": {
      "application/vnd.jupyter.widget-view+json": {
       "model_id": "b2b5bc14e0a94f8fa7b40d076b6220d6",
       "version_major": 2,
       "version_minor": 0
      },
      "text/plain": [
       "Parsing Pages:   0%|          | 0/80 [00:00<?, ?it/s]"
      ]
     },
     "metadata": {},
     "output_type": "display_data"
    },
    {
     "name": "stdout",
     "output_type": "stream",
     "text": [
      "Errors: 0\n",
      "Saved to drom/region25/drom_region25_2022-10-07_08.csv\n",
      "Start 41 region!\n"
     ]
    },
    {
     "data": {
      "application/vnd.jupyter.widget-view+json": {
       "model_id": "fab55a5bad1a4de3a333353c249433bf",
       "version_major": 2,
       "version_minor": 0
      },
      "text/plain": [
       "Collect Pages:   0%|          | 0/80 [00:00<?, ?it/s]"
      ]
     },
     "metadata": {},
     "output_type": "display_data"
    },
    {
     "data": {
      "application/vnd.jupyter.widget-view+json": {
       "model_id": "542bdb850fb44634957e65e105bcbdcd",
       "version_major": 2,
       "version_minor": 0
      },
      "text/plain": [
       "Parsing Pages:   0%|          | 0/80 [00:00<?, ?it/s]"
      ]
     },
     "metadata": {},
     "output_type": "display_data"
    },
    {
     "name": "stdout",
     "output_type": "stream",
     "text": [
      "Errors: 0\n",
      "Saved to drom/region41/drom_region41_2022-10-07_08.csv\n",
      "Start 25 region!\n"
     ]
    },
    {
     "data": {
      "application/vnd.jupyter.widget-view+json": {
       "model_id": "582d41d722b742e1a17e059ec89b7165",
       "version_major": 2,
       "version_minor": 0
      },
      "text/plain": [
       "Collect Pages:   0%|          | 0/80 [00:00<?, ?it/s]"
      ]
     },
     "metadata": {},
     "output_type": "display_data"
    },
    {
     "data": {
      "application/vnd.jupyter.widget-view+json": {
       "model_id": "4bbe29cbcddf4183a740118a8cc923c2",
       "version_major": 2,
       "version_minor": 0
      },
      "text/plain": [
       "Parsing Pages:   0%|          | 0/80 [00:00<?, ?it/s]"
      ]
     },
     "metadata": {},
     "output_type": "display_data"
    },
    {
     "name": "stdout",
     "output_type": "stream",
     "text": [
      "Errors: 0\n",
      "Saved to drom/region25/drom_region25_2022-10-07_09.csv\n",
      "Start 41 region!\n"
     ]
    },
    {
     "data": {
      "application/vnd.jupyter.widget-view+json": {
       "model_id": "c420bb9086dc4c5da092795439e2ab2a",
       "version_major": 2,
       "version_minor": 0
      },
      "text/plain": [
       "Collect Pages:   0%|          | 0/80 [00:00<?, ?it/s]"
      ]
     },
     "metadata": {},
     "output_type": "display_data"
    },
    {
     "data": {
      "application/vnd.jupyter.widget-view+json": {
       "model_id": "3ef3b24b52904296bdb459107ba09cc1",
       "version_major": 2,
       "version_minor": 0
      },
      "text/plain": [
       "Parsing Pages:   0%|          | 0/80 [00:00<?, ?it/s]"
      ]
     },
     "metadata": {},
     "output_type": "display_data"
    },
    {
     "name": "stdout",
     "output_type": "stream",
     "text": [
      "Errors: 0\n",
      "Saved to drom/region41/drom_region41_2022-10-07_09.csv\n",
      "Start 25 region!\n"
     ]
    },
    {
     "data": {
      "application/vnd.jupyter.widget-view+json": {
       "model_id": "2fd47f1ac07b4d8f9b73b3760283c593",
       "version_major": 2,
       "version_minor": 0
      },
      "text/plain": [
       "Collect Pages:   0%|          | 0/80 [00:00<?, ?it/s]"
      ]
     },
     "metadata": {},
     "output_type": "display_data"
    },
    {
     "data": {
      "application/vnd.jupyter.widget-view+json": {
       "model_id": "bc90933868834c6f975af3e7e17d2a48",
       "version_major": 2,
       "version_minor": 0
      },
      "text/plain": [
       "Parsing Pages:   0%|          | 0/80 [00:00<?, ?it/s]"
      ]
     },
     "metadata": {},
     "output_type": "display_data"
    },
    {
     "name": "stdout",
     "output_type": "stream",
     "text": [
      "Errors: 0\n",
      "Saved to drom/region25/drom_region25_2022-10-07_10.csv\n",
      "Start 41 region!\n"
     ]
    },
    {
     "data": {
      "application/vnd.jupyter.widget-view+json": {
       "model_id": "1aaacf4c0d3f49a182ede5ff48fc894d",
       "version_major": 2,
       "version_minor": 0
      },
      "text/plain": [
       "Collect Pages:   0%|          | 0/80 [00:00<?, ?it/s]"
      ]
     },
     "metadata": {},
     "output_type": "display_data"
    },
    {
     "data": {
      "application/vnd.jupyter.widget-view+json": {
       "model_id": "29a719058d6a4de4b9a4fa88b185c55d",
       "version_major": 2,
       "version_minor": 0
      },
      "text/plain": [
       "Parsing Pages:   0%|          | 0/80 [00:00<?, ?it/s]"
      ]
     },
     "metadata": {},
     "output_type": "display_data"
    },
    {
     "name": "stdout",
     "output_type": "stream",
     "text": [
      "Errors: 0\n",
      "Saved to drom/region41/drom_region41_2022-10-07_10.csv\n",
      "Start 25 region!\n"
     ]
    },
    {
     "data": {
      "application/vnd.jupyter.widget-view+json": {
       "model_id": "444504cd702b49cab1d107c8488f1b1d",
       "version_major": 2,
       "version_minor": 0
      },
      "text/plain": [
       "Collect Pages:   0%|          | 0/80 [00:00<?, ?it/s]"
      ]
     },
     "metadata": {},
     "output_type": "display_data"
    },
    {
     "data": {
      "application/vnd.jupyter.widget-view+json": {
       "model_id": "324ac80b8bee48a8829fc4eafc225846",
       "version_major": 2,
       "version_minor": 0
      },
      "text/plain": [
       "Parsing Pages:   0%|          | 0/80 [00:00<?, ?it/s]"
      ]
     },
     "metadata": {},
     "output_type": "display_data"
    },
    {
     "name": "stdout",
     "output_type": "stream",
     "text": [
      "Errors: 0\n",
      "Saved to drom/region25/drom_region25_2022-10-07_11.csv\n",
      "Start 41 region!\n"
     ]
    },
    {
     "data": {
      "application/vnd.jupyter.widget-view+json": {
       "model_id": "40b1f0aca8ab4326a739972266b9ddff",
       "version_major": 2,
       "version_minor": 0
      },
      "text/plain": [
       "Collect Pages:   0%|          | 0/80 [00:00<?, ?it/s]"
      ]
     },
     "metadata": {},
     "output_type": "display_data"
    },
    {
     "data": {
      "application/vnd.jupyter.widget-view+json": {
       "model_id": "b651c599a44f440b8f27b6299e2fda27",
       "version_major": 2,
       "version_minor": 0
      },
      "text/plain": [
       "Parsing Pages:   0%|          | 0/80 [00:00<?, ?it/s]"
      ]
     },
     "metadata": {},
     "output_type": "display_data"
    },
    {
     "name": "stdout",
     "output_type": "stream",
     "text": [
      "Errors: 0\n",
      "Saved to drom/region41/drom_region41_2022-10-07_11.csv\n",
      "Start 25 region!\n"
     ]
    },
    {
     "data": {
      "application/vnd.jupyter.widget-view+json": {
       "model_id": "417bee95b38847d7bd4ec1db02e77d07",
       "version_major": 2,
       "version_minor": 0
      },
      "text/plain": [
       "Collect Pages:   0%|          | 0/80 [00:00<?, ?it/s]"
      ]
     },
     "metadata": {},
     "output_type": "display_data"
    },
    {
     "data": {
      "application/vnd.jupyter.widget-view+json": {
       "model_id": "1ce7d6887bb64a658a6ccf13b5dac75b",
       "version_major": 2,
       "version_minor": 0
      },
      "text/plain": [
       "Parsing Pages:   0%|          | 0/80 [00:00<?, ?it/s]"
      ]
     },
     "metadata": {},
     "output_type": "display_data"
    },
    {
     "name": "stdout",
     "output_type": "stream",
     "text": [
      "Errors: 0\n",
      "Saved to drom/region25/drom_region25_2022-10-07_12.csv\n",
      "Start 41 region!\n"
     ]
    },
    {
     "data": {
      "application/vnd.jupyter.widget-view+json": {
       "model_id": "322b60c7a0c04796a6981b1d97e8d15c",
       "version_major": 2,
       "version_minor": 0
      },
      "text/plain": [
       "Collect Pages:   0%|          | 0/80 [00:00<?, ?it/s]"
      ]
     },
     "metadata": {},
     "output_type": "display_data"
    },
    {
     "data": {
      "application/vnd.jupyter.widget-view+json": {
       "model_id": "3914261682f34e81b53fe045a086519e",
       "version_major": 2,
       "version_minor": 0
      },
      "text/plain": [
       "Parsing Pages:   0%|          | 0/80 [00:00<?, ?it/s]"
      ]
     },
     "metadata": {},
     "output_type": "display_data"
    },
    {
     "name": "stdout",
     "output_type": "stream",
     "text": [
      "Errors: 0\n",
      "Saved to drom/region41/drom_region41_2022-10-07_12.csv\n",
      "Start 25 region!\n"
     ]
    },
    {
     "data": {
      "application/vnd.jupyter.widget-view+json": {
       "model_id": "923203291fc84f26adbb801b07ddbf06",
       "version_major": 2,
       "version_minor": 0
      },
      "text/plain": [
       "Collect Pages:   0%|          | 0/80 [00:00<?, ?it/s]"
      ]
     },
     "metadata": {},
     "output_type": "display_data"
    },
    {
     "data": {
      "application/vnd.jupyter.widget-view+json": {
       "model_id": "c1334f36a6a947758ce179bc11b31bf6",
       "version_major": 2,
       "version_minor": 0
      },
      "text/plain": [
       "Parsing Pages:   0%|          | 0/80 [00:00<?, ?it/s]"
      ]
     },
     "metadata": {},
     "output_type": "display_data"
    },
    {
     "name": "stdout",
     "output_type": "stream",
     "text": [
      "Errors: 0\n",
      "Saved to drom/region25/drom_region25_2022-10-07_13.csv\n",
      "Start 41 region!\n"
     ]
    },
    {
     "data": {
      "application/vnd.jupyter.widget-view+json": {
       "model_id": "43bdb3930b034406beb5243e148ed084",
       "version_major": 2,
       "version_minor": 0
      },
      "text/plain": [
       "Collect Pages:   0%|          | 0/80 [00:00<?, ?it/s]"
      ]
     },
     "metadata": {},
     "output_type": "display_data"
    },
    {
     "data": {
      "application/vnd.jupyter.widget-view+json": {
       "model_id": "a01cfbe7904c44ada974b0db31a051f2",
       "version_major": 2,
       "version_minor": 0
      },
      "text/plain": [
       "Parsing Pages:   0%|          | 0/80 [00:00<?, ?it/s]"
      ]
     },
     "metadata": {},
     "output_type": "display_data"
    },
    {
     "name": "stdout",
     "output_type": "stream",
     "text": [
      "Errors: 0\n",
      "Saved to drom/region41/drom_region41_2022-10-07_13.csv\n",
      "Start 25 region!\n"
     ]
    },
    {
     "data": {
      "application/vnd.jupyter.widget-view+json": {
       "model_id": "7d4f52861ee24c4692027e832c854931",
       "version_major": 2,
       "version_minor": 0
      },
      "text/plain": [
       "Collect Pages:   0%|          | 0/80 [00:00<?, ?it/s]"
      ]
     },
     "metadata": {},
     "output_type": "display_data"
    },
    {
     "data": {
      "application/vnd.jupyter.widget-view+json": {
       "model_id": "36058d8d60ad44cf85f9bc6b74f0e797",
       "version_major": 2,
       "version_minor": 0
      },
      "text/plain": [
       "Parsing Pages:   0%|          | 0/80 [00:00<?, ?it/s]"
      ]
     },
     "metadata": {},
     "output_type": "display_data"
    },
    {
     "name": "stdout",
     "output_type": "stream",
     "text": [
      "Errors: 0\n",
      "Saved to drom/region25/drom_region25_2022-10-07_14.csv\n",
      "Start 41 region!\n"
     ]
    },
    {
     "data": {
      "application/vnd.jupyter.widget-view+json": {
       "model_id": "9dbf5064895a4e34800724dc00dcdc18",
       "version_major": 2,
       "version_minor": 0
      },
      "text/plain": [
       "Collect Pages:   0%|          | 0/80 [00:00<?, ?it/s]"
      ]
     },
     "metadata": {},
     "output_type": "display_data"
    },
    {
     "data": {
      "application/vnd.jupyter.widget-view+json": {
       "model_id": "0b6367eb155c4e2d9b4acc47ed92391f",
       "version_major": 2,
       "version_minor": 0
      },
      "text/plain": [
       "Parsing Pages:   0%|          | 0/80 [00:00<?, ?it/s]"
      ]
     },
     "metadata": {},
     "output_type": "display_data"
    },
    {
     "name": "stdout",
     "output_type": "stream",
     "text": [
      "Errors: 18\n",
      "Saved to drom/region41/drom_region41_2022-10-07_14_18errors.csv\n",
      "Start 25 region!\n"
     ]
    },
    {
     "data": {
      "application/vnd.jupyter.widget-view+json": {
       "model_id": "9347060eb6f845e584053f4b4228c5fb",
       "version_major": 2,
       "version_minor": 0
      },
      "text/plain": [
       "Collect Pages:   0%|          | 0/80 [00:00<?, ?it/s]"
      ]
     },
     "metadata": {},
     "output_type": "display_data"
    },
    {
     "data": {
      "application/vnd.jupyter.widget-view+json": {
       "model_id": "26f364f1fd1e4552bee654e25dc5f00c",
       "version_major": 2,
       "version_minor": 0
      },
      "text/plain": [
       "Parsing Pages:   0%|          | 0/80 [00:00<?, ?it/s]"
      ]
     },
     "metadata": {},
     "output_type": "display_data"
    },
    {
     "name": "stdout",
     "output_type": "stream",
     "text": [
      "Errors: 0\n",
      "Saved to drom/region25/drom_region25_2022-10-07_15.csv\n",
      "Start 41 region!\n"
     ]
    },
    {
     "data": {
      "application/vnd.jupyter.widget-view+json": {
       "model_id": "b4a602277d2e4068870ce689d6e74c25",
       "version_major": 2,
       "version_minor": 0
      },
      "text/plain": [
       "Collect Pages:   0%|          | 0/80 [00:00<?, ?it/s]"
      ]
     },
     "metadata": {},
     "output_type": "display_data"
    },
    {
     "data": {
      "application/vnd.jupyter.widget-view+json": {
       "model_id": "2aed21f142b746cb9897bedcef5a7ebb",
       "version_major": 2,
       "version_minor": 0
      },
      "text/plain": [
       "Parsing Pages:   0%|          | 0/80 [00:00<?, ?it/s]"
      ]
     },
     "metadata": {},
     "output_type": "display_data"
    },
    {
     "name": "stdout",
     "output_type": "stream",
     "text": [
      "Errors: 0\n",
      "Saved to drom/region41/drom_region41_2022-10-07_15.csv\n",
      "Start 25 region!\n"
     ]
    },
    {
     "data": {
      "application/vnd.jupyter.widget-view+json": {
       "model_id": "3e0fc3d96ab6435db2935e65dccd5466",
       "version_major": 2,
       "version_minor": 0
      },
      "text/plain": [
       "Collect Pages:   0%|          | 0/80 [00:00<?, ?it/s]"
      ]
     },
     "metadata": {},
     "output_type": "display_data"
    },
    {
     "data": {
      "application/vnd.jupyter.widget-view+json": {
       "model_id": "a0a95b9bae1b454e91be35cf15017c8e",
       "version_major": 2,
       "version_minor": 0
      },
      "text/plain": [
       "Parsing Pages:   0%|          | 0/80 [00:00<?, ?it/s]"
      ]
     },
     "metadata": {},
     "output_type": "display_data"
    },
    {
     "name": "stdout",
     "output_type": "stream",
     "text": [
      "Errors: 0\n",
      "Saved to drom/region25/drom_region25_2022-10-07_16.csv\n",
      "Start 41 region!\n"
     ]
    },
    {
     "data": {
      "application/vnd.jupyter.widget-view+json": {
       "model_id": "aef61f88226041b4942df3044492abc9",
       "version_major": 2,
       "version_minor": 0
      },
      "text/plain": [
       "Collect Pages:   0%|          | 0/80 [00:00<?, ?it/s]"
      ]
     },
     "metadata": {},
     "output_type": "display_data"
    },
    {
     "data": {
      "application/vnd.jupyter.widget-view+json": {
       "model_id": "dc52f71368e8498694c315450fd1ba0c",
       "version_major": 2,
       "version_minor": 0
      },
      "text/plain": [
       "Parsing Pages:   0%|          | 0/80 [00:00<?, ?it/s]"
      ]
     },
     "metadata": {},
     "output_type": "display_data"
    },
    {
     "name": "stdout",
     "output_type": "stream",
     "text": [
      "Errors: 0\n",
      "Saved to drom/region41/drom_region41_2022-10-07_16.csv\n",
      "Start 25 region!\n"
     ]
    },
    {
     "data": {
      "application/vnd.jupyter.widget-view+json": {
       "model_id": "ee574057809241d8bd7ede32bc25d24e",
       "version_major": 2,
       "version_minor": 0
      },
      "text/plain": [
       "Collect Pages:   0%|          | 0/80 [00:00<?, ?it/s]"
      ]
     },
     "metadata": {},
     "output_type": "display_data"
    },
    {
     "data": {
      "application/vnd.jupyter.widget-view+json": {
       "model_id": "7235e4891ee847fba89dba89d1c01566",
       "version_major": 2,
       "version_minor": 0
      },
      "text/plain": [
       "Parsing Pages:   0%|          | 0/80 [00:00<?, ?it/s]"
      ]
     },
     "metadata": {},
     "output_type": "display_data"
    },
    {
     "name": "stdout",
     "output_type": "stream",
     "text": [
      "Errors: 0\n",
      "Saved to drom/region25/drom_region25_2022-10-07_17.csv\n",
      "Start 41 region!\n"
     ]
    },
    {
     "data": {
      "application/vnd.jupyter.widget-view+json": {
       "model_id": "a46a1a3d2a634c4eb87b9abcc20eedcc",
       "version_major": 2,
       "version_minor": 0
      },
      "text/plain": [
       "Collect Pages:   0%|          | 0/80 [00:00<?, ?it/s]"
      ]
     },
     "metadata": {},
     "output_type": "display_data"
    },
    {
     "data": {
      "application/vnd.jupyter.widget-view+json": {
       "model_id": "d205ee80bd4245298befbb80b229147e",
       "version_major": 2,
       "version_minor": 0
      },
      "text/plain": [
       "Parsing Pages:   0%|          | 0/80 [00:00<?, ?it/s]"
      ]
     },
     "metadata": {},
     "output_type": "display_data"
    },
    {
     "name": "stdout",
     "output_type": "stream",
     "text": [
      "Errors: 0\n",
      "Saved to drom/region41/drom_region41_2022-10-07_17.csv\n",
      "Start 25 region!\n"
     ]
    },
    {
     "data": {
      "application/vnd.jupyter.widget-view+json": {
       "model_id": "0f9413902e894cd0b1daddd87b648b30",
       "version_major": 2,
       "version_minor": 0
      },
      "text/plain": [
       "Collect Pages:   0%|          | 0/80 [00:00<?, ?it/s]"
      ]
     },
     "metadata": {},
     "output_type": "display_data"
    },
    {
     "data": {
      "application/vnd.jupyter.widget-view+json": {
       "model_id": "887672b28dab4f94ae5cc4cd5ff62de5",
       "version_major": 2,
       "version_minor": 0
      },
      "text/plain": [
       "Parsing Pages:   0%|          | 0/80 [00:00<?, ?it/s]"
      ]
     },
     "metadata": {},
     "output_type": "display_data"
    },
    {
     "name": "stdout",
     "output_type": "stream",
     "text": [
      "Errors: 0\n",
      "Saved to drom/region25/drom_region25_2022-10-07_18.csv\n",
      "Start 41 region!\n"
     ]
    },
    {
     "data": {
      "application/vnd.jupyter.widget-view+json": {
       "model_id": "649d2551dfc848ca9dc24fb16060669b",
       "version_major": 2,
       "version_minor": 0
      },
      "text/plain": [
       "Collect Pages:   0%|          | 0/80 [00:00<?, ?it/s]"
      ]
     },
     "metadata": {},
     "output_type": "display_data"
    },
    {
     "data": {
      "application/vnd.jupyter.widget-view+json": {
       "model_id": "2e7c8dbaafad4a3d95ed6fa4096a27b2",
       "version_major": 2,
       "version_minor": 0
      },
      "text/plain": [
       "Parsing Pages:   0%|          | 0/80 [00:00<?, ?it/s]"
      ]
     },
     "metadata": {},
     "output_type": "display_data"
    },
    {
     "name": "stdout",
     "output_type": "stream",
     "text": [
      "Errors: 0\n",
      "Saved to drom/region41/drom_region41_2022-10-07_18.csv\n",
      "Start 25 region!\n"
     ]
    },
    {
     "data": {
      "application/vnd.jupyter.widget-view+json": {
       "model_id": "603e9dd7888547918af0157e008569d1",
       "version_major": 2,
       "version_minor": 0
      },
      "text/plain": [
       "Collect Pages:   0%|          | 0/80 [00:00<?, ?it/s]"
      ]
     },
     "metadata": {},
     "output_type": "display_data"
    },
    {
     "data": {
      "application/vnd.jupyter.widget-view+json": {
       "model_id": "d6ea85ceca9646a0be7b117ccae938f5",
       "version_major": 2,
       "version_minor": 0
      },
      "text/plain": [
       "Parsing Pages:   0%|          | 0/80 [00:00<?, ?it/s]"
      ]
     },
     "metadata": {},
     "output_type": "display_data"
    },
    {
     "name": "stdout",
     "output_type": "stream",
     "text": [
      "Errors: 0\n",
      "Saved to drom/region25/drom_region25_2022-10-07_19.csv\n",
      "Start 41 region!\n"
     ]
    },
    {
     "data": {
      "application/vnd.jupyter.widget-view+json": {
       "model_id": "72d3094e642c4183aeb367a156ba95db",
       "version_major": 2,
       "version_minor": 0
      },
      "text/plain": [
       "Collect Pages:   0%|          | 0/80 [00:00<?, ?it/s]"
      ]
     },
     "metadata": {},
     "output_type": "display_data"
    },
    {
     "data": {
      "application/vnd.jupyter.widget-view+json": {
       "model_id": "5239a14c439d4254a8b38eb254fc126f",
       "version_major": 2,
       "version_minor": 0
      },
      "text/plain": [
       "Parsing Pages:   0%|          | 0/80 [00:00<?, ?it/s]"
      ]
     },
     "metadata": {},
     "output_type": "display_data"
    },
    {
     "name": "stdout",
     "output_type": "stream",
     "text": [
      "Errors: 0\n",
      "Saved to drom/region41/drom_region41_2022-10-07_19.csv\n",
      "Start 25 region!\n"
     ]
    },
    {
     "data": {
      "application/vnd.jupyter.widget-view+json": {
       "model_id": "ebae52dbe1b84a89bd775d8606c46741",
       "version_major": 2,
       "version_minor": 0
      },
      "text/plain": [
       "Collect Pages:   0%|          | 0/80 [00:00<?, ?it/s]"
      ]
     },
     "metadata": {},
     "output_type": "display_data"
    },
    {
     "data": {
      "application/vnd.jupyter.widget-view+json": {
       "model_id": "979d5a252eb14ffcb20e955f8beb7c20",
       "version_major": 2,
       "version_minor": 0
      },
      "text/plain": [
       "Parsing Pages:   0%|          | 0/80 [00:00<?, ?it/s]"
      ]
     },
     "metadata": {},
     "output_type": "display_data"
    },
    {
     "name": "stdout",
     "output_type": "stream",
     "text": [
      "Errors: 0\n",
      "Saved to drom/region25/drom_region25_2022-10-07_20.csv\n",
      "Start 41 region!\n"
     ]
    },
    {
     "data": {
      "application/vnd.jupyter.widget-view+json": {
       "model_id": "15446108437d487da84c5582d5140962",
       "version_major": 2,
       "version_minor": 0
      },
      "text/plain": [
       "Collect Pages:   0%|          | 0/80 [00:00<?, ?it/s]"
      ]
     },
     "metadata": {},
     "output_type": "display_data"
    },
    {
     "data": {
      "application/vnd.jupyter.widget-view+json": {
       "model_id": "5807bf65b68a47eca0376f873bc1cd87",
       "version_major": 2,
       "version_minor": 0
      },
      "text/plain": [
       "Parsing Pages:   0%|          | 0/80 [00:00<?, ?it/s]"
      ]
     },
     "metadata": {},
     "output_type": "display_data"
    },
    {
     "name": "stdout",
     "output_type": "stream",
     "text": [
      "Errors: 0\n",
      "Saved to drom/region41/drom_region41_2022-10-07_20.csv\n",
      "Start 25 region!\n"
     ]
    },
    {
     "data": {
      "application/vnd.jupyter.widget-view+json": {
       "model_id": "b7d16e79db5243d0b93ed0c871666a50",
       "version_major": 2,
       "version_minor": 0
      },
      "text/plain": [
       "Collect Pages:   0%|          | 0/80 [00:00<?, ?it/s]"
      ]
     },
     "metadata": {},
     "output_type": "display_data"
    },
    {
     "data": {
      "application/vnd.jupyter.widget-view+json": {
       "model_id": "213366fb6a7143a4bc21b504ec3b01b7",
       "version_major": 2,
       "version_minor": 0
      },
      "text/plain": [
       "Parsing Pages:   0%|          | 0/80 [00:00<?, ?it/s]"
      ]
     },
     "metadata": {},
     "output_type": "display_data"
    },
    {
     "name": "stdout",
     "output_type": "stream",
     "text": [
      "Errors: 0\n",
      "Saved to drom/region25/drom_region25_2022-10-07_21.csv\n",
      "Start 41 region!\n"
     ]
    },
    {
     "data": {
      "application/vnd.jupyter.widget-view+json": {
       "model_id": "c627fc6f35b14cf19cf73a93f2d9f353",
       "version_major": 2,
       "version_minor": 0
      },
      "text/plain": [
       "Collect Pages:   0%|          | 0/80 [00:00<?, ?it/s]"
      ]
     },
     "metadata": {},
     "output_type": "display_data"
    },
    {
     "data": {
      "application/vnd.jupyter.widget-view+json": {
       "model_id": "09cc215591ac4748a9960d05caad2b9a",
       "version_major": 2,
       "version_minor": 0
      },
      "text/plain": [
       "Parsing Pages:   0%|          | 0/80 [00:00<?, ?it/s]"
      ]
     },
     "metadata": {},
     "output_type": "display_data"
    },
    {
     "name": "stdout",
     "output_type": "stream",
     "text": [
      "Errors: 0\n",
      "Saved to drom/region41/drom_region41_2022-10-07_21.csv\n",
      "Start 25 region!\n"
     ]
    },
    {
     "data": {
      "application/vnd.jupyter.widget-view+json": {
       "model_id": "3ca725a366d94d318f0da56aaa435d17",
       "version_major": 2,
       "version_minor": 0
      },
      "text/plain": [
       "Collect Pages:   0%|          | 0/80 [00:00<?, ?it/s]"
      ]
     },
     "metadata": {},
     "output_type": "display_data"
    },
    {
     "data": {
      "application/vnd.jupyter.widget-view+json": {
       "model_id": "2206322b8bc94698a8659898b3180377",
       "version_major": 2,
       "version_minor": 0
      },
      "text/plain": [
       "Parsing Pages:   0%|          | 0/80 [00:00<?, ?it/s]"
      ]
     },
     "metadata": {},
     "output_type": "display_data"
    },
    {
     "name": "stdout",
     "output_type": "stream",
     "text": [
      "Errors: 0\n",
      "Saved to drom/region25/drom_region25_2022-10-07_22.csv\n",
      "Start 41 region!\n"
     ]
    },
    {
     "data": {
      "application/vnd.jupyter.widget-view+json": {
       "model_id": "59457465e9464bdf90a717b9d8730f01",
       "version_major": 2,
       "version_minor": 0
      },
      "text/plain": [
       "Collect Pages:   0%|          | 0/80 [00:00<?, ?it/s]"
      ]
     },
     "metadata": {},
     "output_type": "display_data"
    },
    {
     "data": {
      "application/vnd.jupyter.widget-view+json": {
       "model_id": "6269bb5ce0bb454289b50635b3b5d569",
       "version_major": 2,
       "version_minor": 0
      },
      "text/plain": [
       "Parsing Pages:   0%|          | 0/80 [00:00<?, ?it/s]"
      ]
     },
     "metadata": {},
     "output_type": "display_data"
    },
    {
     "name": "stdout",
     "output_type": "stream",
     "text": [
      "Errors: 0\n",
      "Saved to drom/region41/drom_region41_2022-10-07_22.csv\n",
      "Start 25 region!\n"
     ]
    },
    {
     "data": {
      "application/vnd.jupyter.widget-view+json": {
       "model_id": "03bd0827e84c4abba6fb43668498e92f",
       "version_major": 2,
       "version_minor": 0
      },
      "text/plain": [
       "Collect Pages:   0%|          | 0/80 [00:00<?, ?it/s]"
      ]
     },
     "metadata": {},
     "output_type": "display_data"
    },
    {
     "data": {
      "application/vnd.jupyter.widget-view+json": {
       "model_id": "0a41739866a04a68b5cff5727e4b7280",
       "version_major": 2,
       "version_minor": 0
      },
      "text/plain": [
       "Parsing Pages:   0%|          | 0/80 [00:00<?, ?it/s]"
      ]
     },
     "metadata": {},
     "output_type": "display_data"
    },
    {
     "name": "stdout",
     "output_type": "stream",
     "text": [
      "Errors: 1\n",
      "Saved to drom/region25/drom_region25_2022-10-07_23_01errors.csv\n",
      "Start 41 region!\n"
     ]
    },
    {
     "data": {
      "application/vnd.jupyter.widget-view+json": {
       "model_id": "d6f5c4fb6e1a4e06ad3d6514d31edf36",
       "version_major": 2,
       "version_minor": 0
      },
      "text/plain": [
       "Collect Pages:   0%|          | 0/80 [00:00<?, ?it/s]"
      ]
     },
     "metadata": {},
     "output_type": "display_data"
    },
    {
     "data": {
      "application/vnd.jupyter.widget-view+json": {
       "model_id": "1bc09fffcf1b4f4ea11cf174ba95f8c6",
       "version_major": 2,
       "version_minor": 0
      },
      "text/plain": [
       "Parsing Pages:   0%|          | 0/80 [00:00<?, ?it/s]"
      ]
     },
     "metadata": {},
     "output_type": "display_data"
    },
    {
     "name": "stdout",
     "output_type": "stream",
     "text": [
      "Errors: 0\n",
      "Saved to drom/region41/drom_region41_2022-10-07_23.csv\n",
      "Start 25 region!\n"
     ]
    },
    {
     "data": {
      "application/vnd.jupyter.widget-view+json": {
       "model_id": "cf243fdc3d814b3e8c5517b520457cdb",
       "version_major": 2,
       "version_minor": 0
      },
      "text/plain": [
       "Collect Pages:   0%|          | 0/80 [00:00<?, ?it/s]"
      ]
     },
     "metadata": {},
     "output_type": "display_data"
    },
    {
     "data": {
      "application/vnd.jupyter.widget-view+json": {
       "model_id": "8b86d2fd511d4dacbee6192ce1b2503c",
       "version_major": 2,
       "version_minor": 0
      },
      "text/plain": [
       "Parsing Pages:   0%|          | 0/80 [00:00<?, ?it/s]"
      ]
     },
     "metadata": {},
     "output_type": "display_data"
    },
    {
     "name": "stdout",
     "output_type": "stream",
     "text": [
      "Errors: 0\n",
      "Saved to drom/region25/drom_region25_2022-10-08_00.csv\n",
      "Start 41 region!\n"
     ]
    },
    {
     "data": {
      "application/vnd.jupyter.widget-view+json": {
       "model_id": "a3e43d21804648a4a1ab52c3b6d97e40",
       "version_major": 2,
       "version_minor": 0
      },
      "text/plain": [
       "Collect Pages:   0%|          | 0/80 [00:00<?, ?it/s]"
      ]
     },
     "metadata": {},
     "output_type": "display_data"
    },
    {
     "data": {
      "application/vnd.jupyter.widget-view+json": {
       "model_id": "a19a2675beaa4bfbb7956de2242c6cf0",
       "version_major": 2,
       "version_minor": 0
      },
      "text/plain": [
       "Parsing Pages:   0%|          | 0/80 [00:00<?, ?it/s]"
      ]
     },
     "metadata": {},
     "output_type": "display_data"
    },
    {
     "name": "stdout",
     "output_type": "stream",
     "text": [
      "Errors: 0\n",
      "Saved to drom/region41/drom_region41_2022-10-08_00.csv\n",
      "Start 25 region!\n"
     ]
    },
    {
     "data": {
      "application/vnd.jupyter.widget-view+json": {
       "model_id": "7c9c841e60994d09ac4e77f9eb8b88c4",
       "version_major": 2,
       "version_minor": 0
      },
      "text/plain": [
       "Collect Pages:   0%|          | 0/80 [00:00<?, ?it/s]"
      ]
     },
     "metadata": {},
     "output_type": "display_data"
    },
    {
     "data": {
      "application/vnd.jupyter.widget-view+json": {
       "model_id": "a4384c576f1b49ee80aaf15843269f2e",
       "version_major": 2,
       "version_minor": 0
      },
      "text/plain": [
       "Parsing Pages:   0%|          | 0/80 [00:00<?, ?it/s]"
      ]
     },
     "metadata": {},
     "output_type": "display_data"
    },
    {
     "name": "stdout",
     "output_type": "stream",
     "text": [
      "Errors: 0\n",
      "Saved to drom/region25/drom_region25_2022-10-08_01.csv\n",
      "Start 41 region!\n"
     ]
    },
    {
     "data": {
      "application/vnd.jupyter.widget-view+json": {
       "model_id": "a4e3b5c0e18a4ae2a383cb8adc63a251",
       "version_major": 2,
       "version_minor": 0
      },
      "text/plain": [
       "Collect Pages:   0%|          | 0/80 [00:00<?, ?it/s]"
      ]
     },
     "metadata": {},
     "output_type": "display_data"
    },
    {
     "data": {
      "application/vnd.jupyter.widget-view+json": {
       "model_id": "ffd666ece64b4e679fafffd8457b0f0d",
       "version_major": 2,
       "version_minor": 0
      },
      "text/plain": [
       "Parsing Pages:   0%|          | 0/80 [00:00<?, ?it/s]"
      ]
     },
     "metadata": {},
     "output_type": "display_data"
    },
    {
     "name": "stdout",
     "output_type": "stream",
     "text": [
      "Errors: 0\n",
      "Saved to drom/region41/drom_region41_2022-10-08_01.csv\n",
      "Start 25 region!\n"
     ]
    },
    {
     "data": {
      "application/vnd.jupyter.widget-view+json": {
       "model_id": "669d4d04922d4302a1cb1917183495c7",
       "version_major": 2,
       "version_minor": 0
      },
      "text/plain": [
       "Collect Pages:   0%|          | 0/80 [00:00<?, ?it/s]"
      ]
     },
     "metadata": {},
     "output_type": "display_data"
    },
    {
     "data": {
      "application/vnd.jupyter.widget-view+json": {
       "model_id": "04ed5a19d61e42b0bb122eadea0c160a",
       "version_major": 2,
       "version_minor": 0
      },
      "text/plain": [
       "Parsing Pages:   0%|          | 0/80 [00:00<?, ?it/s]"
      ]
     },
     "metadata": {},
     "output_type": "display_data"
    },
    {
     "name": "stdout",
     "output_type": "stream",
     "text": [
      "Errors: 0\n",
      "Saved to drom/region25/drom_region25_2022-10-08_02.csv\n",
      "Start 41 region!\n"
     ]
    },
    {
     "data": {
      "application/vnd.jupyter.widget-view+json": {
       "model_id": "9581fbae190e44f989c241d76dc46d05",
       "version_major": 2,
       "version_minor": 0
      },
      "text/plain": [
       "Collect Pages:   0%|          | 0/80 [00:00<?, ?it/s]"
      ]
     },
     "metadata": {},
     "output_type": "display_data"
    },
    {
     "data": {
      "application/vnd.jupyter.widget-view+json": {
       "model_id": "3a5abed5f3d243418069dde8cbd522d6",
       "version_major": 2,
       "version_minor": 0
      },
      "text/plain": [
       "Parsing Pages:   0%|          | 0/80 [00:00<?, ?it/s]"
      ]
     },
     "metadata": {},
     "output_type": "display_data"
    },
    {
     "name": "stdout",
     "output_type": "stream",
     "text": [
      "Errors: 0\n",
      "Saved to drom/region41/drom_region41_2022-10-08_02.csv\n",
      "Start 25 region!\n"
     ]
    },
    {
     "data": {
      "application/vnd.jupyter.widget-view+json": {
       "model_id": "2c143ce8de944aab8e750a74897994ed",
       "version_major": 2,
       "version_minor": 0
      },
      "text/plain": [
       "Collect Pages:   0%|          | 0/80 [00:00<?, ?it/s]"
      ]
     },
     "metadata": {},
     "output_type": "display_data"
    },
    {
     "data": {
      "application/vnd.jupyter.widget-view+json": {
       "model_id": "9cded23d7a964df694593c2d479bd4e2",
       "version_major": 2,
       "version_minor": 0
      },
      "text/plain": [
       "Parsing Pages:   0%|          | 0/80 [00:00<?, ?it/s]"
      ]
     },
     "metadata": {},
     "output_type": "display_data"
    },
    {
     "name": "stdout",
     "output_type": "stream",
     "text": [
      "Errors: 0\n",
      "Saved to drom/region25/drom_region25_2022-10-08_03.csv\n",
      "Start 41 region!\n"
     ]
    },
    {
     "data": {
      "application/vnd.jupyter.widget-view+json": {
       "model_id": "215fe77951314b209eeb746a8ab6acae",
       "version_major": 2,
       "version_minor": 0
      },
      "text/plain": [
       "Collect Pages:   0%|          | 0/80 [00:00<?, ?it/s]"
      ]
     },
     "metadata": {},
     "output_type": "display_data"
    },
    {
     "data": {
      "application/vnd.jupyter.widget-view+json": {
       "model_id": "2d63baff521b4ba686e6277431c5f5e7",
       "version_major": 2,
       "version_minor": 0
      },
      "text/plain": [
       "Parsing Pages:   0%|          | 0/80 [00:00<?, ?it/s]"
      ]
     },
     "metadata": {},
     "output_type": "display_data"
    },
    {
     "name": "stdout",
     "output_type": "stream",
     "text": [
      "Errors: 0\n",
      "Saved to drom/region41/drom_region41_2022-10-08_03.csv\n",
      "Start 25 region!\n"
     ]
    },
    {
     "data": {
      "application/vnd.jupyter.widget-view+json": {
       "model_id": "6397d765f7904c748a8e264def5f158d",
       "version_major": 2,
       "version_minor": 0
      },
      "text/plain": [
       "Collect Pages:   0%|          | 0/80 [00:00<?, ?it/s]"
      ]
     },
     "metadata": {},
     "output_type": "display_data"
    },
    {
     "data": {
      "application/vnd.jupyter.widget-view+json": {
       "model_id": "6276e5cc728349fa9a9685bae9a2396d",
       "version_major": 2,
       "version_minor": 0
      },
      "text/plain": [
       "Parsing Pages:   0%|          | 0/80 [00:00<?, ?it/s]"
      ]
     },
     "metadata": {},
     "output_type": "display_data"
    },
    {
     "name": "stdout",
     "output_type": "stream",
     "text": [
      "Errors: 0\n",
      "Saved to drom/region25/drom_region25_2022-10-08_04.csv\n",
      "Start 41 region!\n"
     ]
    },
    {
     "data": {
      "application/vnd.jupyter.widget-view+json": {
       "model_id": "ecaae00b4a7348cda7d95823c262da41",
       "version_major": 2,
       "version_minor": 0
      },
      "text/plain": [
       "Collect Pages:   0%|          | 0/80 [00:00<?, ?it/s]"
      ]
     },
     "metadata": {},
     "output_type": "display_data"
    },
    {
     "data": {
      "application/vnd.jupyter.widget-view+json": {
       "model_id": "22a8e366f99a48d89b6d72eacd4d3985",
       "version_major": 2,
       "version_minor": 0
      },
      "text/plain": [
       "Parsing Pages:   0%|          | 0/80 [00:00<?, ?it/s]"
      ]
     },
     "metadata": {},
     "output_type": "display_data"
    },
    {
     "name": "stdout",
     "output_type": "stream",
     "text": [
      "Errors: 0\n",
      "Saved to drom/region41/drom_region41_2022-10-08_04.csv\n",
      "Start 25 region!\n"
     ]
    },
    {
     "data": {
      "application/vnd.jupyter.widget-view+json": {
       "model_id": "d9c42bde158142da905fff96a29713e8",
       "version_major": 2,
       "version_minor": 0
      },
      "text/plain": [
       "Collect Pages:   0%|          | 0/80 [00:00<?, ?it/s]"
      ]
     },
     "metadata": {},
     "output_type": "display_data"
    },
    {
     "ename": "ConnectionError",
     "evalue": "HTTPSConnectionPool(host='auto.drom.ru', port=443): Max retries exceeded with url: /region25/all/page22 (Caused by NewConnectionError('<urllib3.connection.HTTPSConnection object at 0x0000017CA2C6B208>: Failed to establish a new connection: [WinError 10060] Попытка установить соединение была безуспешной, т.к. от другого компьютера за требуемое время не получен нужный отклик, или было разорвано уже установленное соединение из-за неверного отклика уже подключенного компьютера'))",
     "output_type": "error",
     "traceback": [
      "\u001B[1;31m---------------------------------------------------------------------------\u001B[0m",
      "\u001B[1;31mTimeoutError\u001B[0m                              Traceback (most recent call last)",
      "\u001B[1;32m~\\AppData\\Roaming\\Python\\Python37\\site-packages\\urllib3\\connection.py\u001B[0m in \u001B[0;36m_new_conn\u001B[1;34m(self)\u001B[0m\n\u001B[0;32m    169\u001B[0m             conn = connection.create_connection(\n\u001B[1;32m--> 170\u001B[1;33m                 \u001B[1;33m(\u001B[0m\u001B[0mself\u001B[0m\u001B[1;33m.\u001B[0m\u001B[0m_dns_host\u001B[0m\u001B[1;33m,\u001B[0m \u001B[0mself\u001B[0m\u001B[1;33m.\u001B[0m\u001B[0mport\u001B[0m\u001B[1;33m)\u001B[0m\u001B[1;33m,\u001B[0m \u001B[0mself\u001B[0m\u001B[1;33m.\u001B[0m\u001B[0mtimeout\u001B[0m\u001B[1;33m,\u001B[0m \u001B[1;33m**\u001B[0m\u001B[0mextra_kw\u001B[0m\u001B[1;33m\u001B[0m\u001B[1;33m\u001B[0m\u001B[0m\n\u001B[0m\u001B[0;32m    171\u001B[0m             )\n",
      "\u001B[1;32m~\\AppData\\Roaming\\Python\\Python37\\site-packages\\urllib3\\util\\connection.py\u001B[0m in \u001B[0;36mcreate_connection\u001B[1;34m(address, timeout, source_address, socket_options)\u001B[0m\n\u001B[0;32m     95\u001B[0m     \u001B[1;32mif\u001B[0m \u001B[0merr\u001B[0m \u001B[1;32mis\u001B[0m \u001B[1;32mnot\u001B[0m \u001B[1;32mNone\u001B[0m\u001B[1;33m:\u001B[0m\u001B[1;33m\u001B[0m\u001B[1;33m\u001B[0m\u001B[0m\n\u001B[1;32m---> 96\u001B[1;33m         \u001B[1;32mraise\u001B[0m \u001B[0merr\u001B[0m\u001B[1;33m\u001B[0m\u001B[1;33m\u001B[0m\u001B[0m\n\u001B[0m\u001B[0;32m     97\u001B[0m \u001B[1;33m\u001B[0m\u001B[0m\n",
      "\u001B[1;32m~\\AppData\\Roaming\\Python\\Python37\\site-packages\\urllib3\\util\\connection.py\u001B[0m in \u001B[0;36mcreate_connection\u001B[1;34m(address, timeout, source_address, socket_options)\u001B[0m\n\u001B[0;32m     85\u001B[0m                 \u001B[0msock\u001B[0m\u001B[1;33m.\u001B[0m\u001B[0mbind\u001B[0m\u001B[1;33m(\u001B[0m\u001B[0msource_address\u001B[0m\u001B[1;33m)\u001B[0m\u001B[1;33m\u001B[0m\u001B[1;33m\u001B[0m\u001B[0m\n\u001B[1;32m---> 86\u001B[1;33m             \u001B[0msock\u001B[0m\u001B[1;33m.\u001B[0m\u001B[0mconnect\u001B[0m\u001B[1;33m(\u001B[0m\u001B[0msa\u001B[0m\u001B[1;33m)\u001B[0m\u001B[1;33m\u001B[0m\u001B[1;33m\u001B[0m\u001B[0m\n\u001B[0m\u001B[0;32m     87\u001B[0m             \u001B[1;32mreturn\u001B[0m \u001B[0msock\u001B[0m\u001B[1;33m\u001B[0m\u001B[1;33m\u001B[0m\u001B[0m\n",
      "\u001B[1;31mTimeoutError\u001B[0m: [WinError 10060] Попытка установить соединение была безуспешной, т.к. от другого компьютера за требуемое время не получен нужный отклик, или было разорвано уже установленное соединение из-за неверного отклика уже подключенного компьютера",
      "\nDuring handling of the above exception, another exception occurred:\n",
      "\u001B[1;31mNewConnectionError\u001B[0m                        Traceback (most recent call last)",
      "\u001B[1;32m~\\AppData\\Roaming\\Python\\Python37\\site-packages\\urllib3\\connectionpool.py\u001B[0m in \u001B[0;36murlopen\u001B[1;34m(self, method, url, body, headers, retries, redirect, assert_same_host, timeout, pool_timeout, release_conn, chunked, body_pos, **response_kw)\u001B[0m\n\u001B[0;32m    705\u001B[0m                 \u001B[0mheaders\u001B[0m\u001B[1;33m=\u001B[0m\u001B[0mheaders\u001B[0m\u001B[1;33m,\u001B[0m\u001B[1;33m\u001B[0m\u001B[1;33m\u001B[0m\u001B[0m\n\u001B[1;32m--> 706\u001B[1;33m                 \u001B[0mchunked\u001B[0m\u001B[1;33m=\u001B[0m\u001B[0mchunked\u001B[0m\u001B[1;33m,\u001B[0m\u001B[1;33m\u001B[0m\u001B[1;33m\u001B[0m\u001B[0m\n\u001B[0m\u001B[0;32m    707\u001B[0m             )\n",
      "\u001B[1;32m~\\AppData\\Roaming\\Python\\Python37\\site-packages\\urllib3\\connectionpool.py\u001B[0m in \u001B[0;36m_make_request\u001B[1;34m(self, conn, method, url, timeout, chunked, **httplib_request_kw)\u001B[0m\n\u001B[0;32m    381\u001B[0m         \u001B[1;32mtry\u001B[0m\u001B[1;33m:\u001B[0m\u001B[1;33m\u001B[0m\u001B[1;33m\u001B[0m\u001B[0m\n\u001B[1;32m--> 382\u001B[1;33m             \u001B[0mself\u001B[0m\u001B[1;33m.\u001B[0m\u001B[0m_validate_conn\u001B[0m\u001B[1;33m(\u001B[0m\u001B[0mconn\u001B[0m\u001B[1;33m)\u001B[0m\u001B[1;33m\u001B[0m\u001B[1;33m\u001B[0m\u001B[0m\n\u001B[0m\u001B[0;32m    383\u001B[0m         \u001B[1;32mexcept\u001B[0m \u001B[1;33m(\u001B[0m\u001B[0mSocketTimeout\u001B[0m\u001B[1;33m,\u001B[0m \u001B[0mBaseSSLError\u001B[0m\u001B[1;33m)\u001B[0m \u001B[1;32mas\u001B[0m \u001B[0me\u001B[0m\u001B[1;33m:\u001B[0m\u001B[1;33m\u001B[0m\u001B[1;33m\u001B[0m\u001B[0m\n",
      "\u001B[1;32m~\\AppData\\Roaming\\Python\\Python37\\site-packages\\urllib3\\connectionpool.py\u001B[0m in \u001B[0;36m_validate_conn\u001B[1;34m(self, conn)\u001B[0m\n\u001B[0;32m   1009\u001B[0m         \u001B[1;32mif\u001B[0m \u001B[1;32mnot\u001B[0m \u001B[0mgetattr\u001B[0m\u001B[1;33m(\u001B[0m\u001B[0mconn\u001B[0m\u001B[1;33m,\u001B[0m \u001B[1;34m\"sock\"\u001B[0m\u001B[1;33m,\u001B[0m \u001B[1;32mNone\u001B[0m\u001B[1;33m)\u001B[0m\u001B[1;33m:\u001B[0m  \u001B[1;31m# AppEngine might not have  `.sock`\u001B[0m\u001B[1;33m\u001B[0m\u001B[1;33m\u001B[0m\u001B[0m\n\u001B[1;32m-> 1010\u001B[1;33m             \u001B[0mconn\u001B[0m\u001B[1;33m.\u001B[0m\u001B[0mconnect\u001B[0m\u001B[1;33m(\u001B[0m\u001B[1;33m)\u001B[0m\u001B[1;33m\u001B[0m\u001B[1;33m\u001B[0m\u001B[0m\n\u001B[0m\u001B[0;32m   1011\u001B[0m \u001B[1;33m\u001B[0m\u001B[0m\n",
      "\u001B[1;32m~\\AppData\\Roaming\\Python\\Python37\\site-packages\\urllib3\\connection.py\u001B[0m in \u001B[0;36mconnect\u001B[1;34m(self)\u001B[0m\n\u001B[0;32m    352\u001B[0m         \u001B[1;31m# Add certificate verification\u001B[0m\u001B[1;33m\u001B[0m\u001B[1;33m\u001B[0m\u001B[1;33m\u001B[0m\u001B[0m\n\u001B[1;32m--> 353\u001B[1;33m         \u001B[0mconn\u001B[0m \u001B[1;33m=\u001B[0m \u001B[0mself\u001B[0m\u001B[1;33m.\u001B[0m\u001B[0m_new_conn\u001B[0m\u001B[1;33m(\u001B[0m\u001B[1;33m)\u001B[0m\u001B[1;33m\u001B[0m\u001B[1;33m\u001B[0m\u001B[0m\n\u001B[0m\u001B[0;32m    354\u001B[0m         \u001B[0mhostname\u001B[0m \u001B[1;33m=\u001B[0m \u001B[0mself\u001B[0m\u001B[1;33m.\u001B[0m\u001B[0mhost\u001B[0m\u001B[1;33m\u001B[0m\u001B[1;33m\u001B[0m\u001B[0m\n",
      "\u001B[1;32m~\\AppData\\Roaming\\Python\\Python37\\site-packages\\urllib3\\connection.py\u001B[0m in \u001B[0;36m_new_conn\u001B[1;34m(self)\u001B[0m\n\u001B[0;32m    181\u001B[0m             raise NewConnectionError(\n\u001B[1;32m--> 182\u001B[1;33m                 \u001B[0mself\u001B[0m\u001B[1;33m,\u001B[0m \u001B[1;34m\"Failed to establish a new connection: %s\"\u001B[0m \u001B[1;33m%\u001B[0m \u001B[0me\u001B[0m\u001B[1;33m\u001B[0m\u001B[1;33m\u001B[0m\u001B[0m\n\u001B[0m\u001B[0;32m    183\u001B[0m             )\n",
      "\u001B[1;31mNewConnectionError\u001B[0m: <urllib3.connection.HTTPSConnection object at 0x0000017CA2C6B208>: Failed to establish a new connection: [WinError 10060] Попытка установить соединение была безуспешной, т.к. от другого компьютера за требуемое время не получен нужный отклик, или было разорвано уже установленное соединение из-за неверного отклика уже подключенного компьютера",
      "\nDuring handling of the above exception, another exception occurred:\n",
      "\u001B[1;31mMaxRetryError\u001B[0m                             Traceback (most recent call last)",
      "\u001B[1;32m~\\AppData\\Roaming\\Python\\Python37\\site-packages\\requests\\adapters.py\u001B[0m in \u001B[0;36msend\u001B[1;34m(self, request, stream, timeout, verify, cert, proxies)\u001B[0m\n\u001B[0;32m    448\u001B[0m                     \u001B[0mretries\u001B[0m\u001B[1;33m=\u001B[0m\u001B[0mself\u001B[0m\u001B[1;33m.\u001B[0m\u001B[0mmax_retries\u001B[0m\u001B[1;33m,\u001B[0m\u001B[1;33m\u001B[0m\u001B[1;33m\u001B[0m\u001B[0m\n\u001B[1;32m--> 449\u001B[1;33m                     \u001B[0mtimeout\u001B[0m\u001B[1;33m=\u001B[0m\u001B[0mtimeout\u001B[0m\u001B[1;33m\u001B[0m\u001B[1;33m\u001B[0m\u001B[0m\n\u001B[0m\u001B[0;32m    450\u001B[0m                 )\n",
      "\u001B[1;32m~\\AppData\\Roaming\\Python\\Python37\\site-packages\\urllib3\\connectionpool.py\u001B[0m in \u001B[0;36murlopen\u001B[1;34m(self, method, url, body, headers, retries, redirect, assert_same_host, timeout, pool_timeout, release_conn, chunked, body_pos, **response_kw)\u001B[0m\n\u001B[0;32m    755\u001B[0m             retries = retries.increment(\n\u001B[1;32m--> 756\u001B[1;33m                 \u001B[0mmethod\u001B[0m\u001B[1;33m,\u001B[0m \u001B[0murl\u001B[0m\u001B[1;33m,\u001B[0m \u001B[0merror\u001B[0m\u001B[1;33m=\u001B[0m\u001B[0me\u001B[0m\u001B[1;33m,\u001B[0m \u001B[0m_pool\u001B[0m\u001B[1;33m=\u001B[0m\u001B[0mself\u001B[0m\u001B[1;33m,\u001B[0m \u001B[0m_stacktrace\u001B[0m\u001B[1;33m=\u001B[0m\u001B[0msys\u001B[0m\u001B[1;33m.\u001B[0m\u001B[0mexc_info\u001B[0m\u001B[1;33m(\u001B[0m\u001B[1;33m)\u001B[0m\u001B[1;33m[\u001B[0m\u001B[1;36m2\u001B[0m\u001B[1;33m]\u001B[0m\u001B[1;33m\u001B[0m\u001B[1;33m\u001B[0m\u001B[0m\n\u001B[0m\u001B[0;32m    757\u001B[0m             )\n",
      "\u001B[1;32m~\\AppData\\Roaming\\Python\\Python37\\site-packages\\urllib3\\util\\retry.py\u001B[0m in \u001B[0;36mincrement\u001B[1;34m(self, method, url, response, error, _pool, _stacktrace)\u001B[0m\n\u001B[0;32m    573\u001B[0m         \u001B[1;32mif\u001B[0m \u001B[0mnew_retry\u001B[0m\u001B[1;33m.\u001B[0m\u001B[0mis_exhausted\u001B[0m\u001B[1;33m(\u001B[0m\u001B[1;33m)\u001B[0m\u001B[1;33m:\u001B[0m\u001B[1;33m\u001B[0m\u001B[1;33m\u001B[0m\u001B[0m\n\u001B[1;32m--> 574\u001B[1;33m             \u001B[1;32mraise\u001B[0m \u001B[0mMaxRetryError\u001B[0m\u001B[1;33m(\u001B[0m\u001B[0m_pool\u001B[0m\u001B[1;33m,\u001B[0m \u001B[0murl\u001B[0m\u001B[1;33m,\u001B[0m \u001B[0merror\u001B[0m \u001B[1;32mor\u001B[0m \u001B[0mResponseError\u001B[0m\u001B[1;33m(\u001B[0m\u001B[0mcause\u001B[0m\u001B[1;33m)\u001B[0m\u001B[1;33m)\u001B[0m\u001B[1;33m\u001B[0m\u001B[1;33m\u001B[0m\u001B[0m\n\u001B[0m\u001B[0;32m    575\u001B[0m \u001B[1;33m\u001B[0m\u001B[0m\n",
      "\u001B[1;31mMaxRetryError\u001B[0m: HTTPSConnectionPool(host='auto.drom.ru', port=443): Max retries exceeded with url: /region25/all/page22 (Caused by NewConnectionError('<urllib3.connection.HTTPSConnection object at 0x0000017CA2C6B208>: Failed to establish a new connection: [WinError 10060] Попытка установить соединение была безуспешной, т.к. от другого компьютера за требуемое время не получен нужный отклик, или было разорвано уже установленное соединение из-за неверного отклика уже подключенного компьютера'))",
      "\nDuring handling of the above exception, another exception occurred:\n",
      "\u001B[1;31mConnectionError\u001B[0m                           Traceback (most recent call last)",
      "\u001B[1;32m<ipython-input-10-e56d423a4f18>\u001B[0m in \u001B[0;36m<module>\u001B[1;34m\u001B[0m\n\u001B[0;32m      5\u001B[0m \u001B[1;33m\u001B[0m\u001B[0m\n\u001B[0;32m      6\u001B[0m \u001B[1;32mwhile\u001B[0m \u001B[1;32mTrue\u001B[0m\u001B[1;33m:\u001B[0m\u001B[1;33m\u001B[0m\u001B[1;33m\u001B[0m\u001B[0m\n\u001B[1;32m----> 7\u001B[1;33m     \u001B[0mschedule\u001B[0m\u001B[1;33m.\u001B[0m\u001B[0mrun_pending\u001B[0m\u001B[1;33m(\u001B[0m\u001B[1;33m)\u001B[0m\u001B[1;33m\u001B[0m\u001B[1;33m\u001B[0m\u001B[0m\n\u001B[0m\u001B[0;32m      8\u001B[0m     \u001B[0msleep\u001B[0m\u001B[1;33m(\u001B[0m\u001B[1;36m30\u001B[0m\u001B[1;33m)\u001B[0m\u001B[1;33m\u001B[0m\u001B[1;33m\u001B[0m\u001B[0m\n",
      "\u001B[1;32mc:\\program files\\python37\\lib\\site-packages\\schedule\\__init__.py\u001B[0m in \u001B[0;36mrun_pending\u001B[1;34m()\u001B[0m\n\u001B[0;32m    778\u001B[0m     \u001B[1;33m:\u001B[0m\u001B[0mdata\u001B[0m\u001B[1;33m:\u001B[0m\u001B[0;31m`\u001B[0m\u001B[0mdefault\u001B[0m \u001B[0mscheduler\u001B[0m \u001B[0minstance\u001B[0m \u001B[1;33m<\u001B[0m\u001B[0mdefault_scheduler\u001B[0m\u001B[1;33m>\u001B[0m\u001B[0;31m`\u001B[0m\u001B[1;33m.\u001B[0m\u001B[1;33m\u001B[0m\u001B[1;33m\u001B[0m\u001B[0m\n\u001B[0;32m    779\u001B[0m     \"\"\"\n\u001B[1;32m--> 780\u001B[1;33m     \u001B[0mdefault_scheduler\u001B[0m\u001B[1;33m.\u001B[0m\u001B[0mrun_pending\u001B[0m\u001B[1;33m(\u001B[0m\u001B[1;33m)\u001B[0m\u001B[1;33m\u001B[0m\u001B[1;33m\u001B[0m\u001B[0m\n\u001B[0m\u001B[0;32m    781\u001B[0m \u001B[1;33m\u001B[0m\u001B[0m\n\u001B[0;32m    782\u001B[0m \u001B[1;33m\u001B[0m\u001B[0m\n",
      "\u001B[1;32mc:\\program files\\python37\\lib\\site-packages\\schedule\\__init__.py\u001B[0m in \u001B[0;36mrun_pending\u001B[1;34m(self)\u001B[0m\n\u001B[0;32m     98\u001B[0m         \u001B[0mrunnable_jobs\u001B[0m \u001B[1;33m=\u001B[0m \u001B[1;33m(\u001B[0m\u001B[0mjob\u001B[0m \u001B[1;32mfor\u001B[0m \u001B[0mjob\u001B[0m \u001B[1;32min\u001B[0m \u001B[0mself\u001B[0m\u001B[1;33m.\u001B[0m\u001B[0mjobs\u001B[0m \u001B[1;32mif\u001B[0m \u001B[0mjob\u001B[0m\u001B[1;33m.\u001B[0m\u001B[0mshould_run\u001B[0m\u001B[1;33m)\u001B[0m\u001B[1;33m\u001B[0m\u001B[1;33m\u001B[0m\u001B[0m\n\u001B[0;32m     99\u001B[0m         \u001B[1;32mfor\u001B[0m \u001B[0mjob\u001B[0m \u001B[1;32min\u001B[0m \u001B[0msorted\u001B[0m\u001B[1;33m(\u001B[0m\u001B[0mrunnable_jobs\u001B[0m\u001B[1;33m)\u001B[0m\u001B[1;33m:\u001B[0m\u001B[1;33m\u001B[0m\u001B[1;33m\u001B[0m\u001B[0m\n\u001B[1;32m--> 100\u001B[1;33m             \u001B[0mself\u001B[0m\u001B[1;33m.\u001B[0m\u001B[0m_run_job\u001B[0m\u001B[1;33m(\u001B[0m\u001B[0mjob\u001B[0m\u001B[1;33m)\u001B[0m\u001B[1;33m\u001B[0m\u001B[1;33m\u001B[0m\u001B[0m\n\u001B[0m\u001B[0;32m    101\u001B[0m \u001B[1;33m\u001B[0m\u001B[0m\n\u001B[0;32m    102\u001B[0m     \u001B[1;32mdef\u001B[0m \u001B[0mrun_all\u001B[0m\u001B[1;33m(\u001B[0m\u001B[0mself\u001B[0m\u001B[1;33m,\u001B[0m \u001B[0mdelay_seconds\u001B[0m\u001B[1;33m:\u001B[0m \u001B[0mint\u001B[0m \u001B[1;33m=\u001B[0m \u001B[1;36m0\u001B[0m\u001B[1;33m)\u001B[0m \u001B[1;33m->\u001B[0m \u001B[1;32mNone\u001B[0m\u001B[1;33m:\u001B[0m\u001B[1;33m\u001B[0m\u001B[1;33m\u001B[0m\u001B[0m\n",
      "\u001B[1;32mc:\\program files\\python37\\lib\\site-packages\\schedule\\__init__.py\u001B[0m in \u001B[0;36m_run_job\u001B[1;34m(self, job)\u001B[0m\n\u001B[0;32m    170\u001B[0m \u001B[1;33m\u001B[0m\u001B[0m\n\u001B[0;32m    171\u001B[0m     \u001B[1;32mdef\u001B[0m \u001B[0m_run_job\u001B[0m\u001B[1;33m(\u001B[0m\u001B[0mself\u001B[0m\u001B[1;33m,\u001B[0m \u001B[0mjob\u001B[0m\u001B[1;33m:\u001B[0m \u001B[1;34m\"Job\"\u001B[0m\u001B[1;33m)\u001B[0m \u001B[1;33m->\u001B[0m \u001B[1;32mNone\u001B[0m\u001B[1;33m:\u001B[0m\u001B[1;33m\u001B[0m\u001B[1;33m\u001B[0m\u001B[0m\n\u001B[1;32m--> 172\u001B[1;33m         \u001B[0mret\u001B[0m \u001B[1;33m=\u001B[0m \u001B[0mjob\u001B[0m\u001B[1;33m.\u001B[0m\u001B[0mrun\u001B[0m\u001B[1;33m(\u001B[0m\u001B[1;33m)\u001B[0m\u001B[1;33m\u001B[0m\u001B[1;33m\u001B[0m\u001B[0m\n\u001B[0m\u001B[0;32m    173\u001B[0m         \u001B[1;32mif\u001B[0m \u001B[0misinstance\u001B[0m\u001B[1;33m(\u001B[0m\u001B[0mret\u001B[0m\u001B[1;33m,\u001B[0m \u001B[0mCancelJob\u001B[0m\u001B[1;33m)\u001B[0m \u001B[1;32mor\u001B[0m \u001B[0mret\u001B[0m \u001B[1;32mis\u001B[0m \u001B[0mCancelJob\u001B[0m\u001B[1;33m:\u001B[0m\u001B[1;33m\u001B[0m\u001B[1;33m\u001B[0m\u001B[0m\n\u001B[0;32m    174\u001B[0m             \u001B[0mself\u001B[0m\u001B[1;33m.\u001B[0m\u001B[0mcancel_job\u001B[0m\u001B[1;33m(\u001B[0m\u001B[0mjob\u001B[0m\u001B[1;33m)\u001B[0m\u001B[1;33m\u001B[0m\u001B[1;33m\u001B[0m\u001B[0m\n",
      "\u001B[1;32mc:\\program files\\python37\\lib\\site-packages\\schedule\\__init__.py\u001B[0m in \u001B[0;36mrun\u001B[1;34m(self)\u001B[0m\n\u001B[0;32m    659\u001B[0m \u001B[1;33m\u001B[0m\u001B[0m\n\u001B[0;32m    660\u001B[0m         \u001B[0mlogger\u001B[0m\u001B[1;33m.\u001B[0m\u001B[0mdebug\u001B[0m\u001B[1;33m(\u001B[0m\u001B[1;34m\"Running job %s\"\u001B[0m\u001B[1;33m,\u001B[0m \u001B[0mself\u001B[0m\u001B[1;33m)\u001B[0m\u001B[1;33m\u001B[0m\u001B[1;33m\u001B[0m\u001B[0m\n\u001B[1;32m--> 661\u001B[1;33m         \u001B[0mret\u001B[0m \u001B[1;33m=\u001B[0m \u001B[0mself\u001B[0m\u001B[1;33m.\u001B[0m\u001B[0mjob_func\u001B[0m\u001B[1;33m(\u001B[0m\u001B[1;33m)\u001B[0m\u001B[1;33m\u001B[0m\u001B[1;33m\u001B[0m\u001B[0m\n\u001B[0m\u001B[0;32m    662\u001B[0m         \u001B[0mself\u001B[0m\u001B[1;33m.\u001B[0m\u001B[0mlast_run\u001B[0m \u001B[1;33m=\u001B[0m \u001B[0mdatetime\u001B[0m\u001B[1;33m.\u001B[0m\u001B[0mdatetime\u001B[0m\u001B[1;33m.\u001B[0m\u001B[0mnow\u001B[0m\u001B[1;33m(\u001B[0m\u001B[1;33m)\u001B[0m\u001B[1;33m\u001B[0m\u001B[1;33m\u001B[0m\u001B[0m\n\u001B[0;32m    663\u001B[0m         \u001B[0mself\u001B[0m\u001B[1;33m.\u001B[0m\u001B[0m_schedule_next_run\u001B[0m\u001B[1;33m(\u001B[0m\u001B[1;33m)\u001B[0m\u001B[1;33m\u001B[0m\u001B[1;33m\u001B[0m\u001B[0m\n",
      "\u001B[1;32m<ipython-input-8-8bee13b8924e>\u001B[0m in \u001B[0;36mmain\u001B[1;34m()\u001B[0m\n\u001B[0;32m      3\u001B[0m     \u001B[0mregions\u001B[0m \u001B[1;33m=\u001B[0m \u001B[1;33m[\u001B[0m\u001B[1;36m25\u001B[0m\u001B[1;33m,\u001B[0m \u001B[1;36m41\u001B[0m\u001B[1;33m]\u001B[0m\u001B[1;33m\u001B[0m\u001B[1;33m\u001B[0m\u001B[0m\n\u001B[0;32m      4\u001B[0m     \u001B[1;32mfor\u001B[0m \u001B[0mregion\u001B[0m \u001B[1;32min\u001B[0m \u001B[0mregions\u001B[0m\u001B[1;33m:\u001B[0m\u001B[1;33m\u001B[0m\u001B[1;33m\u001B[0m\u001B[0m\n\u001B[1;32m----> 5\u001B[1;33m         \u001B[0mstart\u001B[0m\u001B[1;33m(\u001B[0m\u001B[0mregion\u001B[0m\u001B[1;33m,\u001B[0m \u001B[0mpages_count\u001B[0m\u001B[1;33m)\u001B[0m\u001B[1;33m\u001B[0m\u001B[1;33m\u001B[0m\u001B[0m\n\u001B[0m",
      "\u001B[1;32m<ipython-input-6-058f13373fef>\u001B[0m in \u001B[0;36mstart\u001B[1;34m(region, pages_count)\u001B[0m\n\u001B[0;32m     15\u001B[0m \u001B[1;33m\u001B[0m\u001B[0m\n\u001B[0;32m     16\u001B[0m     \u001B[1;32mfor\u001B[0m \u001B[0mpage\u001B[0m \u001B[1;32min\u001B[0m \u001B[0mtqdm\u001B[0m\u001B[1;33m(\u001B[0m\u001B[0mrange\u001B[0m\u001B[1;33m(\u001B[0m\u001B[0mpages_count\u001B[0m\u001B[1;33m)\u001B[0m\u001B[1;33m,\u001B[0m \u001B[0mdesc\u001B[0m\u001B[1;33m=\u001B[0m\u001B[1;34m'Collect Pages'\u001B[0m\u001B[1;33m)\u001B[0m\u001B[1;33m:\u001B[0m\u001B[1;33m\u001B[0m\u001B[1;33m\u001B[0m\u001B[0m\n\u001B[1;32m---> 17\u001B[1;33m         \u001B[0mpage_response\u001B[0m \u001B[1;33m=\u001B[0m \u001B[0mhtml_response\u001B[0m\u001B[1;33m(\u001B[0m\u001B[0mMANE_PAGE_YFA\u001B[0m \u001B[1;33m+\u001B[0m \u001B[0mstr\u001B[0m\u001B[1;33m(\u001B[0m\u001B[0mpage\u001B[0m\u001B[1;33m+\u001B[0m\u001B[1;36m1\u001B[0m\u001B[1;33m)\u001B[0m\u001B[1;33m,\u001B[0m \u001B[0mWEB_HEADERS\u001B[0m\u001B[1;33m)\u001B[0m\u001B[1;33m\u001B[0m\u001B[1;33m\u001B[0m\u001B[0m\n\u001B[0m\u001B[0;32m     18\u001B[0m         \u001B[0mresponses\u001B[0m\u001B[1;33m.\u001B[0m\u001B[0mappend\u001B[0m\u001B[1;33m(\u001B[0m\u001B[0mpage_response\u001B[0m\u001B[1;33m)\u001B[0m\u001B[1;33m\u001B[0m\u001B[1;33m\u001B[0m\u001B[0m\n\u001B[0;32m     19\u001B[0m \u001B[1;33m\u001B[0m\u001B[0m\n",
      "\u001B[1;32m<ipython-input-1-2c1d015ae816>\u001B[0m in \u001B[0;36mhtml_response\u001B[1;34m(url, headers)\u001B[0m\n\u001B[0;32m     21\u001B[0m     \u001B[1;32mfor\u001B[0m \u001B[0m_\u001B[0m \u001B[1;32min\u001B[0m \u001B[0mrange\u001B[0m\u001B[1;33m(\u001B[0m\u001B[1;36m3\u001B[0m\u001B[1;33m)\u001B[0m\u001B[1;33m:\u001B[0m\u001B[1;33m\u001B[0m\u001B[1;33m\u001B[0m\u001B[0m\n\u001B[0;32m     22\u001B[0m         \u001B[1;32mtry\u001B[0m\u001B[1;33m:\u001B[0m\u001B[1;33m\u001B[0m\u001B[1;33m\u001B[0m\u001B[0m\n\u001B[1;32m---> 23\u001B[1;33m             \u001B[0mresponse\u001B[0m \u001B[1;33m=\u001B[0m \u001B[0mrequests\u001B[0m\u001B[1;33m.\u001B[0m\u001B[0mget\u001B[0m\u001B[1;33m(\u001B[0m\u001B[0murl\u001B[0m\u001B[1;33m,\u001B[0m \u001B[0mheaders\u001B[0m\u001B[1;33m=\u001B[0m\u001B[0mheaders\u001B[0m\u001B[1;33m)\u001B[0m\u001B[1;33m\u001B[0m\u001B[1;33m\u001B[0m\u001B[0m\n\u001B[0m\u001B[0;32m     24\u001B[0m             \u001B[1;32mreturn\u001B[0m \u001B[0mresponse\u001B[0m\u001B[1;33m.\u001B[0m\u001B[0mtext\u001B[0m\u001B[1;33m\u001B[0m\u001B[1;33m\u001B[0m\u001B[0m\n\u001B[0;32m     25\u001B[0m         \u001B[1;32mexcept\u001B[0m \u001B[0mConnectionError\u001B[0m \u001B[1;32mor\u001B[0m \u001B[0mTimeoutError\u001B[0m \u001B[1;32mor\u001B[0m \u001B[0mConnectionResetError\u001B[0m\u001B[1;33m:\u001B[0m\u001B[1;33m\u001B[0m\u001B[1;33m\u001B[0m\u001B[0m\n",
      "\u001B[1;32m~\\AppData\\Roaming\\Python\\Python37\\site-packages\\requests\\api.py\u001B[0m in \u001B[0;36mget\u001B[1;34m(url, params, **kwargs)\u001B[0m\n\u001B[0;32m     74\u001B[0m \u001B[1;33m\u001B[0m\u001B[0m\n\u001B[0;32m     75\u001B[0m     \u001B[0mkwargs\u001B[0m\u001B[1;33m.\u001B[0m\u001B[0msetdefault\u001B[0m\u001B[1;33m(\u001B[0m\u001B[1;34m'allow_redirects'\u001B[0m\u001B[1;33m,\u001B[0m \u001B[1;32mTrue\u001B[0m\u001B[1;33m)\u001B[0m\u001B[1;33m\u001B[0m\u001B[1;33m\u001B[0m\u001B[0m\n\u001B[1;32m---> 76\u001B[1;33m     \u001B[1;32mreturn\u001B[0m \u001B[0mrequest\u001B[0m\u001B[1;33m(\u001B[0m\u001B[1;34m'get'\u001B[0m\u001B[1;33m,\u001B[0m \u001B[0murl\u001B[0m\u001B[1;33m,\u001B[0m \u001B[0mparams\u001B[0m\u001B[1;33m=\u001B[0m\u001B[0mparams\u001B[0m\u001B[1;33m,\u001B[0m \u001B[1;33m**\u001B[0m\u001B[0mkwargs\u001B[0m\u001B[1;33m)\u001B[0m\u001B[1;33m\u001B[0m\u001B[1;33m\u001B[0m\u001B[0m\n\u001B[0m\u001B[0;32m     77\u001B[0m \u001B[1;33m\u001B[0m\u001B[0m\n\u001B[0;32m     78\u001B[0m \u001B[1;33m\u001B[0m\u001B[0m\n",
      "\u001B[1;32m~\\AppData\\Roaming\\Python\\Python37\\site-packages\\requests\\api.py\u001B[0m in \u001B[0;36mrequest\u001B[1;34m(method, url, **kwargs)\u001B[0m\n\u001B[0;32m     59\u001B[0m     \u001B[1;31m# cases, and look like a memory leak in others.\u001B[0m\u001B[1;33m\u001B[0m\u001B[1;33m\u001B[0m\u001B[1;33m\u001B[0m\u001B[0m\n\u001B[0;32m     60\u001B[0m     \u001B[1;32mwith\u001B[0m \u001B[0msessions\u001B[0m\u001B[1;33m.\u001B[0m\u001B[0mSession\u001B[0m\u001B[1;33m(\u001B[0m\u001B[1;33m)\u001B[0m \u001B[1;32mas\u001B[0m \u001B[0msession\u001B[0m\u001B[1;33m:\u001B[0m\u001B[1;33m\u001B[0m\u001B[1;33m\u001B[0m\u001B[0m\n\u001B[1;32m---> 61\u001B[1;33m         \u001B[1;32mreturn\u001B[0m \u001B[0msession\u001B[0m\u001B[1;33m.\u001B[0m\u001B[0mrequest\u001B[0m\u001B[1;33m(\u001B[0m\u001B[0mmethod\u001B[0m\u001B[1;33m=\u001B[0m\u001B[0mmethod\u001B[0m\u001B[1;33m,\u001B[0m \u001B[0murl\u001B[0m\u001B[1;33m=\u001B[0m\u001B[0murl\u001B[0m\u001B[1;33m,\u001B[0m \u001B[1;33m**\u001B[0m\u001B[0mkwargs\u001B[0m\u001B[1;33m)\u001B[0m\u001B[1;33m\u001B[0m\u001B[1;33m\u001B[0m\u001B[0m\n\u001B[0m\u001B[0;32m     62\u001B[0m \u001B[1;33m\u001B[0m\u001B[0m\n\u001B[0;32m     63\u001B[0m \u001B[1;33m\u001B[0m\u001B[0m\n",
      "\u001B[1;32m~\\AppData\\Roaming\\Python\\Python37\\site-packages\\requests\\sessions.py\u001B[0m in \u001B[0;36mrequest\u001B[1;34m(self, method, url, params, data, headers, cookies, files, auth, timeout, allow_redirects, proxies, hooks, stream, verify, cert, json)\u001B[0m\n\u001B[0;32m    540\u001B[0m         }\n\u001B[0;32m    541\u001B[0m         \u001B[0msend_kwargs\u001B[0m\u001B[1;33m.\u001B[0m\u001B[0mupdate\u001B[0m\u001B[1;33m(\u001B[0m\u001B[0msettings\u001B[0m\u001B[1;33m)\u001B[0m\u001B[1;33m\u001B[0m\u001B[1;33m\u001B[0m\u001B[0m\n\u001B[1;32m--> 542\u001B[1;33m         \u001B[0mresp\u001B[0m \u001B[1;33m=\u001B[0m \u001B[0mself\u001B[0m\u001B[1;33m.\u001B[0m\u001B[0msend\u001B[0m\u001B[1;33m(\u001B[0m\u001B[0mprep\u001B[0m\u001B[1;33m,\u001B[0m \u001B[1;33m**\u001B[0m\u001B[0msend_kwargs\u001B[0m\u001B[1;33m)\u001B[0m\u001B[1;33m\u001B[0m\u001B[1;33m\u001B[0m\u001B[0m\n\u001B[0m\u001B[0;32m    543\u001B[0m \u001B[1;33m\u001B[0m\u001B[0m\n\u001B[0;32m    544\u001B[0m         \u001B[1;32mreturn\u001B[0m \u001B[0mresp\u001B[0m\u001B[1;33m\u001B[0m\u001B[1;33m\u001B[0m\u001B[0m\n",
      "\u001B[1;32m~\\AppData\\Roaming\\Python\\Python37\\site-packages\\requests\\sessions.py\u001B[0m in \u001B[0;36msend\u001B[1;34m(self, request, **kwargs)\u001B[0m\n\u001B[0;32m    653\u001B[0m \u001B[1;33m\u001B[0m\u001B[0m\n\u001B[0;32m    654\u001B[0m         \u001B[1;31m# Send the request\u001B[0m\u001B[1;33m\u001B[0m\u001B[1;33m\u001B[0m\u001B[1;33m\u001B[0m\u001B[0m\n\u001B[1;32m--> 655\u001B[1;33m         \u001B[0mr\u001B[0m \u001B[1;33m=\u001B[0m \u001B[0madapter\u001B[0m\u001B[1;33m.\u001B[0m\u001B[0msend\u001B[0m\u001B[1;33m(\u001B[0m\u001B[0mrequest\u001B[0m\u001B[1;33m,\u001B[0m \u001B[1;33m**\u001B[0m\u001B[0mkwargs\u001B[0m\u001B[1;33m)\u001B[0m\u001B[1;33m\u001B[0m\u001B[1;33m\u001B[0m\u001B[0m\n\u001B[0m\u001B[0;32m    656\u001B[0m \u001B[1;33m\u001B[0m\u001B[0m\n\u001B[0;32m    657\u001B[0m         \u001B[1;31m# Total elapsed time of the request (approximately)\u001B[0m\u001B[1;33m\u001B[0m\u001B[1;33m\u001B[0m\u001B[1;33m\u001B[0m\u001B[0m\n",
      "\u001B[1;32m~\\AppData\\Roaming\\Python\\Python37\\site-packages\\requests\\adapters.py\u001B[0m in \u001B[0;36msend\u001B[1;34m(self, request, stream, timeout, verify, cert, proxies)\u001B[0m\n\u001B[0;32m    514\u001B[0m                 \u001B[1;32mraise\u001B[0m \u001B[0mSSLError\u001B[0m\u001B[1;33m(\u001B[0m\u001B[0me\u001B[0m\u001B[1;33m,\u001B[0m \u001B[0mrequest\u001B[0m\u001B[1;33m=\u001B[0m\u001B[0mrequest\u001B[0m\u001B[1;33m)\u001B[0m\u001B[1;33m\u001B[0m\u001B[1;33m\u001B[0m\u001B[0m\n\u001B[0;32m    515\u001B[0m \u001B[1;33m\u001B[0m\u001B[0m\n\u001B[1;32m--> 516\u001B[1;33m             \u001B[1;32mraise\u001B[0m \u001B[0mConnectionError\u001B[0m\u001B[1;33m(\u001B[0m\u001B[0me\u001B[0m\u001B[1;33m,\u001B[0m \u001B[0mrequest\u001B[0m\u001B[1;33m=\u001B[0m\u001B[0mrequest\u001B[0m\u001B[1;33m)\u001B[0m\u001B[1;33m\u001B[0m\u001B[1;33m\u001B[0m\u001B[0m\n\u001B[0m\u001B[0;32m    517\u001B[0m \u001B[1;33m\u001B[0m\u001B[0m\n\u001B[0;32m    518\u001B[0m         \u001B[1;32mexcept\u001B[0m \u001B[0mClosedPoolError\u001B[0m \u001B[1;32mas\u001B[0m \u001B[0me\u001B[0m\u001B[1;33m:\u001B[0m\u001B[1;33m\u001B[0m\u001B[1;33m\u001B[0m\u001B[0m\n",
      "\u001B[1;31mConnectionError\u001B[0m: HTTPSConnectionPool(host='auto.drom.ru', port=443): Max retries exceeded with url: /region25/all/page22 (Caused by NewConnectionError('<urllib3.connection.HTTPSConnection object at 0x0000017CA2C6B208>: Failed to establish a new connection: [WinError 10060] Попытка установить соединение была безуспешной, т.к. от другого компьютера за требуемое время не получен нужный отклик, или было разорвано уже установленное соединение из-за неверного отклика уже подключенного компьютера'))"
     ]
    }
   ],
   "source": [
    "import schedule\n",
    "\n",
    "\n",
    "schedule.every().hour.at(':30').do(main)\n",
    "\n",
    "while True:\n",
    "    schedule.run_pending()\n",
    "    sleep(30)"
   ]
  },
  {
   "cell_type": "code",
   "execution_count": null,
   "metadata": {
    "ExecuteTime": {
     "end_time": "2022-10-07T17:31:12.625469Z",
     "start_time": "2022-10-06T14:45:19.578Z"
    }
   },
   "outputs": [],
   "source": [
    "# bulls-list_bull"
   ]
  },
  {
   "cell_type": "code",
   "execution_count": null,
   "metadata": {},
   "outputs": [],
   "source": []
  }
 ],
 "metadata": {
  "kernelspec": {
   "display_name": "Python 3",
   "language": "python",
   "name": "python3"
  },
  "language_info": {
   "codemirror_mode": {
    "name": "ipython",
    "version": 3
   },
   "file_extension": ".py",
   "mimetype": "text/x-python",
   "name": "python",
   "nbconvert_exporter": "python",
   "pygments_lexer": "ipython3",
   "version": "3.7.9"
  },
  "varInspector": {
   "cols": {
    "lenName": 16,
    "lenType": 16,
    "lenVar": 40
   },
   "kernels_config": {
    "python": {
     "delete_cmd_postfix": "",
     "delete_cmd_prefix": "del ",
     "library": "var_list.py",
     "varRefreshCmd": "print(var_dic_list())"
    },
    "r": {
     "delete_cmd_postfix": ") ",
     "delete_cmd_prefix": "rm(",
     "library": "var_list.r",
     "varRefreshCmd": "cat(var_dic_list()) "
    }
   },
   "types_to_exclude": [
    "module",
    "function",
    "builtin_function_or_method",
    "instance",
    "_Feature"
   ],
   "window_display": false
  }
 },
 "nbformat": 4,
 "nbformat_minor": 4
}
